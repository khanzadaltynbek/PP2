{
 "cells": [
  {
   "cell_type": "raw",
   "id": "4476d65e-c329-41ae-899d-17f728e842ab",
   "metadata": {},
   "source": [
    "FUNCTION_1"
   ]
  },
  {
   "cell_type": "markdown",
   "id": "4017c26e-4a5c-4b3e-b540-52c0fc4c222e",
   "metadata": {},
   "source": [
    "EXE1"
   ]
  },
  {
   "cell_type": "code",
   "execution_count": 2,
   "id": "5bd8b0c7-bb73-45b9-9042-df2e6ea435fe",
   "metadata": {},
   "outputs": [
    {
     "name": "stdin",
     "output_type": "stream",
     "text": [
      " 10\n"
     ]
    },
    {
     "name": "stdout",
     "output_type": "stream",
     "text": [
      "283.495231\n"
     ]
    }
   ],
   "source": [
    "def recipe(grams):\n",
    "    ounces = 28.3495231 * grams\n",
    "    print(ounces)\n",
    "num=int(input())\n",
    "recipe(num)"
   ]
  },
  {
   "cell_type": "markdown",
   "id": "89ef1111-8a7e-448a-b09a-8dfbce701490",
   "metadata": {},
   "source": [
    "EXE2"
   ]
  },
  {
   "cell_type": "code",
   "execution_count": 6,
   "id": "42b21b2a-41af-4d42-94ea-c066c78015ca",
   "metadata": {},
   "outputs": [
    {
     "name": "stdin",
     "output_type": "stream",
     "text": [
      " 10\n"
     ]
    },
    {
     "name": "stdout",
     "output_type": "stream",
     "text": [
      "-12.222222222222223\n"
     ]
    }
   ],
   "source": [
    "def temp(F):\n",
    "    C = (5 / 9) * (F-32)\n",
    "    print(C)\n",
    "num=int(input())\n",
    "temp(num)"
   ]
  },
  {
   "cell_type": "markdown",
   "id": "91de995d-0078-43e1-98d8-c626a5848837",
   "metadata": {},
   "source": [
    "EXE3"
   ]
  },
  {
   "cell_type": "code",
   "execution_count": 83,
   "id": "1d98dec2-a25c-4ea4-80fa-c195554e6a64",
   "metadata": {},
   "outputs": [
    {
     "name": "stdout",
     "output_type": "stream",
     "text": [
      "Rabbits=  5\n",
      "Chicken=  25\n"
     ]
    }
   ],
   "source": [
    "def chicken(numheads,numlegs):\n",
    "    rabbit=((numlegs-2*numheads)/2)\n",
    "    print(\"Rabbits= \", int(rabbit))\n",
    "    print(\"Chicken= \", int(numheads-rabbit))\n",
    "numheads=30\n",
    "numlegs=70\n",
    "chicken(numheads,numlegs)"
   ]
  },
  {
   "cell_type": "markdown",
   "id": "7161ccd1-a53a-45aa-86f8-e2cd1a566233",
   "metadata": {},
   "source": [
    "EXE4_"
   ]
  },
  {
   "cell_type": "code",
   "execution_count": 13,
   "id": "dbfa3968-9480-4162-a326-1519e654fadf",
   "metadata": {},
   "outputs": [
    {
     "name": "stdin",
     "output_type": "stream",
     "text": [
      " 1\n",
      " 3\n"
     ]
    },
    {
     "ename": "TypeError",
     "evalue": "'int' object is not iterable",
     "output_type": "error",
     "traceback": [
      "\u001b[1;31m---------------------------------------------------------------------------\u001b[0m",
      "\u001b[1;31mTypeError\u001b[0m                                 Traceback (most recent call last)",
      "\u001b[1;32m~\\AppData\\Local\\Temp\\ipykernel_48104\\4018576719.py\u001b[0m in \u001b[0;36m<module>\u001b[1;34m\u001b[0m\n\u001b[0;32m      9\u001b[0m     \u001b[0mx\u001b[0m\u001b[1;33m=\u001b[0m\u001b[0mint\u001b[0m\u001b[1;33m(\u001b[0m\u001b[0minput\u001b[0m\u001b[1;33m(\u001b[0m\u001b[1;33m)\u001b[0m\u001b[1;33m)\u001b[0m\u001b[1;33m\u001b[0m\u001b[1;33m\u001b[0m\u001b[0m\n\u001b[0;32m     10\u001b[0m     \u001b[0ma\u001b[0m\u001b[1;33m.\u001b[0m\u001b[0mappend\u001b[0m\u001b[1;33m(\u001b[0m\u001b[0mx\u001b[0m\u001b[1;33m)\u001b[0m\u001b[1;33m\u001b[0m\u001b[1;33m\u001b[0m\u001b[0m\n\u001b[1;32m---> 11\u001b[1;33m \u001b[0mprime\u001b[0m\u001b[1;33m=\u001b[0m\u001b[0mlist\u001b[0m\u001b[1;33m(\u001b[0m\u001b[0mfilter\u001b[0m\u001b[1;33m(\u001b[0m\u001b[0mfilter_prime\u001b[0m\u001b[1;33m,\u001b[0m\u001b[1;36m1\u001b[0m\u001b[1;33m)\u001b[0m\u001b[1;33m)\u001b[0m\u001b[1;33m\u001b[0m\u001b[1;33m\u001b[0m\u001b[0m\n\u001b[0m\u001b[0;32m     12\u001b[0m \u001b[0mprint\u001b[0m\u001b[1;33m(\u001b[0m\u001b[0mprime\u001b[0m\u001b[1;33m)\u001b[0m\u001b[1;33m\u001b[0m\u001b[1;33m\u001b[0m\u001b[0m\n",
      "\u001b[1;31mTypeError\u001b[0m: 'int' object is not iterable"
     ]
    }
   ],
   "source": [
    "def filter_prime(num):\n",
    "    if num <= 1: return False\n",
    "    for i in range (2,num):\n",
    "        if num%i==0:\n",
    "            return False\n",
    "    return True\n",
    "n=int(input())\n",
    "a=[]\n",
    "for i in range(n):\n",
    "    x=int(input())\n",
    "    a.append(x)\n",
    "prime=list(filter(filter_prime,1))\n",
    "print(prime)\n",
    "\n",
    "\n",
    "\n",
    "def isPrime(n): \n",
    "    if n <= 1: return False\n",
    "    for i in range(2, n): \n",
    "        if n % i == 0: \n",
    "            return False; \n",
    "  \n",
    "    return True\n",
    "\n",
    "def returnPrime(list):\n",
    "    primes = []\n",
    "    for l in list:\n",
    "       for p in l:\n",
    "           if isPrime(p):\n",
    "              primes += p\n",
    "    return primes"
   ]
  },
  {
   "cell_type": "markdown",
   "id": "ec168b90-ec6f-4b08-ba4c-6519e25eddc3",
   "metadata": {},
   "source": [
    "EXE5_"
   ]
  },
  {
   "cell_type": "code",
   "execution_count": 17,
   "id": "1d375d27-822f-4aa8-b186-d698c812929b",
   "metadata": {},
   "outputs": [
    {
     "name": "stdin",
     "output_type": "stream",
     "text": [
      " abc\n"
     ]
    },
    {
     "name": "stdout",
     "output_type": "stream",
     "text": [
      "['abc', 'acb', 'bac', 'bca', 'cab', 'cba']\n"
     ]
    }
   ],
   "source": [
    "import itertools\n",
    "if __name__ == '__main__':\n",
    "    s = str(input())\n",
    "    nums = list(s)\n",
    "    permutations = list(itertools.permutations(nums))\n",
    "    print([''.join(permutation) for permutation in permutations])"
   ]
  },
  {
   "cell_type": "markdown",
   "id": "ea35abd3-5052-48b6-8ba7-939f59453612",
   "metadata": {},
   "source": [
    "EXE6"
   ]
  },
  {
   "cell_type": "code",
   "execution_count": 20,
   "id": "c2e20e45-70fa-4bc8-8b7e-c9815d5d68b9",
   "metadata": {},
   "outputs": [
    {
     "name": "stdin",
     "output_type": "stream",
     "text": [
      " i like coding so much\n"
     ]
    },
    {
     "name": "stdout",
     "output_type": "stream",
     "text": [
      "much so coding like i\n"
     ]
    }
   ],
   "source": [
    "x = str(input())\n",
    "a = x.split()\n",
    "a.reverse()\n",
    "print(' '.join(a))"
   ]
  },
  {
   "cell_type": "markdown",
   "id": "c23b04c4-822f-47b5-a7f3-460b053e1f31",
   "metadata": {},
   "source": [
    "EXE7"
   ]
  },
  {
   "cell_type": "markdown",
   "id": "fc3bba5e-023f-461b-9514-0abf5bd47690",
   "metadata": {},
   "source": [
    "def has_33(l):\n",
    "     return any(l[i+1] == l[i] == 3 for i in range(len(l) - 1))\n",
    "has_33([1, 3, 3]) "
   ]
  },
  {
   "cell_type": "markdown",
   "id": "ba17405a-40d3-49aa-9f3d-95aa6687bcfb",
   "metadata": {},
   "source": [
    "EXE8_"
   ]
  },
  {
   "cell_type": "code",
   "execution_count": 57,
   "id": "7f8ed95e-bf14-49db-9cc3-f317139ec5e8",
   "metadata": {},
   "outputs": [
    {
     "name": "stdout",
     "output_type": "stream",
     "text": [
      "True\n",
      "False\n",
      "False\n"
     ]
    }
   ],
   "source": [
    "def spy_game(nums):\n",
    "    for i in range(0,len(nums)):\n",
    "        if nums[i] == 0:\n",
    "            for x in range(i+1,len(nums)):\n",
    "                if nums[x] == 0:\n",
    "                    for y in range(x+1,len(nums)):\n",
    "                        if nums[y] == 7:\n",
    "                            return True\n",
    "                else:\n",
    "                    return False\n",
    "print(spy_game([1,2,4,0,0,7,5]))\n",
    "print(spy_game([1,0,2,4,0,5,7]))\n",
    "print(spy_game([1,7,2,0,4,5,0]))"
   ]
  },
  {
   "cell_type": "markdown",
   "id": "ff9c66cb-fae0-43f3-8d46-51cbee932622",
   "metadata": {},
   "source": [
    "EXE9"
   ]
  },
  {
   "cell_type": "code",
   "execution_count": 65,
   "id": "097c026a-f292-4b65-8537-1258257ecb3b",
   "metadata": {},
   "outputs": [
    {
     "name": "stdin",
     "output_type": "stream",
     "text": [
      " 5\n"
     ]
    },
    {
     "name": "stdout",
     "output_type": "stream",
     "text": [
      "523.6666666666666\n"
     ]
    }
   ],
   "source": [
    "def v_sphere(r:float):\n",
    "    v= (4/3)*3.142*(r**3)\n",
    "    print(v)\n",
    "n=float(input())\n",
    "v_sphere(n)"
   ]
  },
  {
   "cell_type": "markdown",
   "id": "e91935b9-3a40-4536-9704-eb66396e4d8b",
   "metadata": {},
   "source": [
    "EXE10"
   ]
  },
  {
   "cell_type": "code",
   "execution_count": 66,
   "id": "50b3e780-72c0-41e1-96df-b7bc32153271",
   "metadata": {},
   "outputs": [
    {
     "name": "stdout",
     "output_type": "stream",
     "text": [
      "[1, 2, 3, 4, 5]\n"
     ]
    }
   ],
   "source": [
    "def unique_list(l):\n",
    "  x = []\n",
    "  for a in l:\n",
    "    if a not in x:\n",
    "      x.append(a)\n",
    "  return x\n",
    "\n",
    "print(unique_list([1,2,3,3,3,3,4,5])) "
   ]
  },
  {
   "cell_type": "markdown",
   "id": "397e4888-ef64-48db-871c-c390130d3912",
   "metadata": {},
   "source": [
    "EXE11"
   ]
  },
  {
   "cell_type": "code",
   "execution_count": 71,
   "id": "56e506c5-052a-44b6-bbe1-09352c7fd2dc",
   "metadata": {},
   "outputs": [
    {
     "name": "stdin",
     "output_type": "stream",
     "text": [
      " Khanzada\n"
     ]
    },
    {
     "name": "stdout",
     "output_type": "stream",
     "text": [
      "No\n"
     ]
    }
   ],
   "source": [
    "def isPalindrome(s):\n",
    "    for i in range(0, int(len(s)/2)):\n",
    "        if s[i] != s[len(s)-i-1]:\n",
    "            return False\n",
    "    return True\n",
    "#return s == s[::-1]\n",
    "s =input()\n",
    "number = isPalindrome(s)\n",
    "if number:\n",
    "    print(\"Yes\")\n",
    "else:\n",
    "    print(\"No\")"
   ]
  },
  {
   "cell_type": "markdown",
   "id": "ee306d2b-00ad-423d-93a5-af459bb1a488",
   "metadata": {},
   "source": [
    "EXE12"
   ]
  },
  {
   "cell_type": "code",
   "execution_count": 76,
   "id": "229322fc-51fc-4d49-9c6c-8c93f4fb2608",
   "metadata": {},
   "outputs": [
    {
     "name": "stdout",
     "output_type": "stream",
     "text": [
      "****\n",
      "*********\n",
      "*******\n"
     ]
    }
   ],
   "source": [
    "def histogram(l):\n",
    " \n",
    "    for i in range(len(l)):\n",
    "        print (l[i]*'*')\n",
    " \n",
    " \n",
    "List = [4,9,7]\n",
    " \n",
    "histogram(List)"
   ]
  },
  {
   "cell_type": "markdown",
   "id": "551b1fbd-ca90-4f17-b17f-8e0924cedb27",
   "metadata": {},
   "source": [
    "EXE13"
   ]
  },
  {
   "cell_type": "code",
   "execution_count": 82,
   "id": "012afd3e-ccfe-4fd6-af02-a71717bf35c5",
   "metadata": {},
   "outputs": [
    {
     "name": "stdout",
     "output_type": "stream",
     "text": [
      "Hello! What is your name?\n"
     ]
    },
    {
     "name": "stdin",
     "output_type": "stream",
     "text": [
      " khan\n"
     ]
    },
    {
     "name": "stdout",
     "output_type": "stream",
     "text": [
      "Well, khan, I am thinking of a number between 1 and 20.\n",
      "Take a guess.\n"
     ]
    },
    {
     "name": "stdin",
     "output_type": "stream",
     "text": [
      " 20\n"
     ]
    },
    {
     "name": "stdout",
     "output_type": "stream",
     "text": [
      "Your guess is too high.\n",
      "Take a guess.\n"
     ]
    },
    {
     "name": "stdin",
     "output_type": "stream",
     "text": [
      " 10\n"
     ]
    },
    {
     "name": "stdout",
     "output_type": "stream",
     "text": [
      "Your guess is too low.\n",
      "Take a guess.\n"
     ]
    },
    {
     "name": "stdin",
     "output_type": "stream",
     "text": [
      " 15\n"
     ]
    },
    {
     "name": "stdout",
     "output_type": "stream",
     "text": [
      "Your guess is too low.\n",
      "Take a guess.\n"
     ]
    },
    {
     "name": "stdin",
     "output_type": "stream",
     "text": [
      " 18\n"
     ]
    },
    {
     "name": "stdout",
     "output_type": "stream",
     "text": [
      "Your guess is too high.\n",
      "Take a guess.\n"
     ]
    },
    {
     "name": "stdin",
     "output_type": "stream",
     "text": [
      " 16\n"
     ]
    },
    {
     "name": "stdout",
     "output_type": "stream",
     "text": [
      "Your guess is too low.\n",
      "Take a guess.\n"
     ]
    },
    {
     "name": "stdin",
     "output_type": "stream",
     "text": [
      " 17\n"
     ]
    },
    {
     "name": "stdout",
     "output_type": "stream",
     "text": [
      "Good job, khan! You guessed my number in 6 guesses!\n"
     ]
    }
   ],
   "source": [
    "import random\n",
    "guessesTaken = 0\n",
    "print('Hello! What is your name?')\n",
    "myName = input()\n",
    "number = random.randint(1, 20)\n",
    "print('Well, ' + myName + ', I am thinking of a number between 1 and 20.')\n",
    "while guessesTaken < 6:\n",
    "    print('Take a guess.') \n",
    "    guess = input()\n",
    "    guess = int(guess)\n",
    "    guessesTaken = guessesTaken + 1\n",
    "    if guess < number:\n",
    "        print('Your guess is too low.') \n",
    "    if guess > number:\n",
    "        print('Your guess is too high.')\n",
    "    if guess == number:\n",
    "        break\n",
    "if guess == number:\n",
    "    guessesTaken = str(guessesTaken)\n",
    "    print('Good job, ' + myName + '! You guessed my number in ' + guessesTaken + ' guesses!')\n",
    "if guess != number:\n",
    "    number = str(number)\n",
    "    print('Nope. The number I was thinking of was ' + number)"
   ]
  },
  {
   "cell_type": "raw",
   "id": "57ad312e-a6c2-47b4-bdaa-6867a9823a80",
   "metadata": {},
   "source": [
    "FUNCTION_2"
   ]
  },
  {
   "cell_type": "markdown",
   "id": "a1e3f795-15b5-42b0-a2c3-5fe1920a70d1",
   "metadata": {},
   "source": [
    "EXE1"
   ]
  },
  {
   "cell_type": "code",
   "execution_count": 93,
   "id": "534ac7ae-b382-4e43-8842-292cd289e499",
   "metadata": {},
   "outputs": [
    {
     "name": "stdout",
     "output_type": "stream",
     "text": [
      "False\n"
     ]
    }
   ],
   "source": [
    "movies = [\n",
    "{\n",
    "\"name\": \"Usual Suspects\", \n",
    "\"imdb\": 7.0,\n",
    "\"category\": \"Thriller\"\n",
    "},\n",
    "{\n",
    "\"name\": \"Hitman\",\n",
    "\"imdb\": 6.3,\n",
    "\"category\": \"Action\"\n",
    "},\n",
    "{\n",
    "\"name\": \"Dark Knight\",\n",
    "\"imdb\": 9.0,\n",
    "\"category\": \"Adventure\"\n",
    "},\n",
    "{\n",
    "\"name\": \"The Help\",\n",
    "\"imdb\": 8.0,\n",
    "\"category\": \"Drama\"\n",
    "},\n",
    "{\n",
    "\"name\": \"The Choice\",\n",
    "\"imdb\": 6.2,\n",
    "\"category\": \"Romance\"\n",
    "},\n",
    "{\n",
    "\"name\": \"Colonia\",\n",
    "\"imdb\": 7.4,\n",
    "\"category\": \"Romance\"\n",
    "},\n",
    "{\n",
    "\"name\": \"Love\",\n",
    "\"imdb\": 6.0,\n",
    "\"category\": \"Romance\"\n",
    "},\n",
    "{\n",
    "\"name\": \"Bride Wars\",\n",
    "\"imdb\": 5.4,\n",
    "\"category\": \"Romance\"\n",
    "},\n",
    "{\n",
    "\"name\": \"AlphaJet\",\n",
    "\"imdb\": 3.2,\n",
    "\"category\": \"War\"\n",
    "},\n",
    "{\n",
    "\"name\": \"Ringing Crime\",\n",
    "\"imdb\": 4.0,\n",
    "\"category\": \"Crime\"\n",
    "},\n",
    "{\n",
    "\"name\": \"Joking muck\",\n",
    "\"imdb\": 7.2,\n",
    "\"category\": \"Comedy\"\n",
    "},\n",
    "{\n",
    "\"name\": \"What is the name\",\n",
    "\"imdb\": 9.2,\n",
    "\"category\": \"Suspense\"\n",
    "},\n",
    "{\n",
    "\"name\": \"Detective\",\n",
    "\"imdb\": 7.0,\n",
    "\"category\": \"Suspense\"\n",
    "},\n",
    "{\n",
    "\"name\": \"Exam\",\n",
    "\"imdb\": 4.2,\n",
    "\"category\": \"Thriller\"\n",
    "},\n",
    "{\n",
    "\"name\": \"We Two\",\n",
    "\"imdb\": 7.2,\n",
    "\"category\": \"Romance\"\n",
    "}\n",
    "]\n",
    "#EXE1\n",
    "def check_score_greater(movie): \n",
    "    if(movie['imdb']>5.5):\n",
    "        return True\n",
    "    else:\n",
    "        return False\n",
    "is_greater=check_score_greater(movies[7])\n",
    "if(is_greater):\n",
    "    print ('True')\n",
    "else :\n",
    "    print( 'False')"
   ]
  },
  {
   "cell_type": "markdown",
   "id": "1fe8ccc2-f055-45b2-afee-086634fe50ea",
   "metadata": {},
   "source": [
    "EXE2"
   ]
  },
  {
   "cell_type": "code",
   "execution_count": 94,
   "id": "3bc87194-48b6-4fac-9f9e-55ba2a552317",
   "metadata": {},
   "outputs": [
    {
     "name": "stdout",
     "output_type": "stream",
     "text": [
      "[{'name': 'Usual Suspects', 'imdb': 7.0, 'category': 'Thriller'}, {'name': 'Hitman', 'imdb': 6.3, 'category': 'Action'}, {'name': 'Dark Knight', 'imdb': 9.0, 'category': 'Adventure'}, {'name': 'The Help', 'imdb': 8.0, 'category': 'Drama'}, {'name': 'The Choice', 'imdb': 6.2, 'category': 'Romance'}, {'name': 'Colonia', 'imdb': 7.4, 'category': 'Romance'}, {'name': 'Love', 'imdb': 6.0, 'category': 'Romance'}, {'name': 'Joking muck', 'imdb': 7.2, 'category': 'Comedy'}, {'name': 'What is the name', 'imdb': 9.2, 'category': 'Suspense'}, {'name': 'Detective', 'imdb': 7.0, 'category': 'Suspense'}, {'name': 'We Two', 'imdb': 7.2, 'category': 'Romance'}]\n"
     ]
    }
   ],
   "source": [
    "movies = [\n",
    "{\n",
    "\"name\": \"Usual Suspects\", \n",
    "\"imdb\": 7.0,\n",
    "\"category\": \"Thriller\"\n",
    "},\n",
    "{\n",
    "\"name\": \"Hitman\",\n",
    "\"imdb\": 6.3,\n",
    "\"category\": \"Action\"\n",
    "},\n",
    "{\n",
    "\"name\": \"Dark Knight\",\n",
    "\"imdb\": 9.0,\n",
    "\"category\": \"Adventure\"\n",
    "},\n",
    "{\n",
    "\"name\": \"The Help\",\n",
    "\"imdb\": 8.0,\n",
    "\"category\": \"Drama\"\n",
    "},\n",
    "{\n",
    "\"name\": \"The Choice\",\n",
    "\"imdb\": 6.2,\n",
    "\"category\": \"Romance\"\n",
    "},\n",
    "{\n",
    "\"name\": \"Colonia\",\n",
    "\"imdb\": 7.4,\n",
    "\"category\": \"Romance\"\n",
    "},\n",
    "{\n",
    "\"name\": \"Love\",\n",
    "\"imdb\": 6.0,\n",
    "\"category\": \"Romance\"\n",
    "},\n",
    "{\n",
    "\"name\": \"Bride Wars\",\n",
    "\"imdb\": 5.4,\n",
    "\"category\": \"Romance\"\n",
    "},\n",
    "{\n",
    "\"name\": \"AlphaJet\",\n",
    "\"imdb\": 3.2,\n",
    "\"category\": \"War\"\n",
    "},\n",
    "{\n",
    "\"name\": \"Ringing Crime\",\n",
    "\"imdb\": 4.0,\n",
    "\"category\": \"Crime\"\n",
    "},\n",
    "{\n",
    "\"name\": \"Joking muck\",\n",
    "\"imdb\": 7.2,\n",
    "\"category\": \"Comedy\"\n",
    "},\n",
    "{\n",
    "\"name\": \"What is the name\",\n",
    "\"imdb\": 9.2,\n",
    "\"category\": \"Suspense\"\n",
    "},\n",
    "{\n",
    "\"name\": \"Detective\",\n",
    "\"imdb\": 7.0,\n",
    "\"category\": \"Suspense\"\n",
    "},\n",
    "{\n",
    "\"name\": \"Exam\",\n",
    "\"imdb\": 4.2,\n",
    "\"category\": \"Thriller\"\n",
    "},\n",
    "{\n",
    "\"name\": \"We Two\",\n",
    "\"imdb\": 7.2,\n",
    "\"category\": \"Romance\"\n",
    "}\n",
    "]\n",
    "def sublist_movies_high_score(movies): \n",
    "    out_list=[];\n",
    "    for i in range(0,len(movies)):\n",
    "        curr_movie=movies[i];\n",
    "        if curr_movie['imdb']>5.5:\n",
    "            out_list.append(curr_movie)\n",
    "    return out_list\n",
    "out_list=sublist_movies_high_score(movies)\n",
    "print (out_list)"
   ]
  },
  {
   "cell_type": "markdown",
   "id": "883bffa9-bbac-4920-839e-ab58c525cce1",
   "metadata": {},
   "source": [
    "EXE3"
   ]
  },
  {
   "cell_type": "code",
   "execution_count": 101,
   "id": "b123d85c-a5f5-4ca9-86c7-6e2f288c1d9e",
   "metadata": {},
   "outputs": [
    {
     "name": "stdout",
     "output_type": "stream",
     "text": [
      "[{'name': 'Hitman', 'imdb': 6.3, 'category': 'Action'}]\n"
     ]
    }
   ],
   "source": [
    "movies = [\n",
    "{\n",
    "\"name\": \"Usual Suspects\", \n",
    "\"imdb\": 7.0,\n",
    "\"category\": \"Thriller\"\n",
    "},\n",
    "{\n",
    "\"name\": \"Hitman\",\n",
    "\"imdb\": 6.3,\n",
    "\"category\": \"Action\"\n",
    "},\n",
    "{\n",
    "\"name\": \"Dark Knight\",\n",
    "\"imdb\": 9.0,\n",
    "\"category\": \"Adventure\"\n",
    "},\n",
    "{\n",
    "\"name\": \"The Help\",\n",
    "\"imdb\": 8.0,\n",
    "\"category\": \"Drama\"\n",
    "},\n",
    "{\n",
    "\"name\": \"The Choice\",\n",
    "\"imdb\": 6.2,\n",
    "\"category\": \"Romance\"\n",
    "},\n",
    "{\n",
    "\"name\": \"Colonia\",\n",
    "\"imdb\": 7.4,\n",
    "\"category\": \"Romance\"\n",
    "},\n",
    "{\n",
    "\"name\": \"Love\",\n",
    "\"imdb\": 6.0,\n",
    "\"category\": \"Romance\"\n",
    "},\n",
    "{\n",
    "\"name\": \"Bride Wars\",\n",
    "\"imdb\": 5.4,\n",
    "\"category\": \"Romance\"\n",
    "},\n",
    "{\n",
    "\"name\": \"AlphaJet\",\n",
    "\"imdb\": 3.2,\n",
    "\"category\": \"War\"\n",
    "},\n",
    "{\n",
    "\"name\": \"Ringing Crime\",\n",
    "\"imdb\": 4.0,\n",
    "\"category\": \"Crime\"\n",
    "},\n",
    "{\n",
    "\"name\": \"Joking muck\",\n",
    "\"imdb\": 7.2,\n",
    "\"category\": \"Comedy\"\n",
    "},\n",
    "{\n",
    "\"name\": \"What is the name\",\n",
    "\"imdb\": 9.2,\n",
    "\"category\": \"Suspense\"\n",
    "},\n",
    "{\n",
    "\"name\": \"Detective\",\n",
    "\"imdb\": 7.0,\n",
    "\"category\": \"Suspense\"\n",
    "},\n",
    "{\n",
    "\"name\": \"Exam\",\n",
    "\"imdb\": 4.2,\n",
    "\"category\": \"Thriller\"\n",
    "},\n",
    "{\n",
    "\"name\": \"We Two\",\n",
    "\"imdb\": 7.2,\n",
    "\"category\": \"Romance\"\n",
    "}\n",
    "]\n",
    "def movie_category(movies,cat_name):\n",
    "    out_list=[]\n",
    "    for i in movies:\n",
    "        curr_cat=i['category']\n",
    "        if cat_name.lower()==curr_cat.lower():\n",
    "            out_list.append(i)\n",
    "    return out_list\n",
    "out_list=movie_category(movies,'Action')\n",
    "print(out_list)"
   ]
  },
  {
   "cell_type": "markdown",
   "id": "c222caba-7176-48da-a3e8-37a865559db3",
   "metadata": {},
   "source": [
    "EXE4"
   ]
  },
  {
   "cell_type": "code",
   "execution_count": 104,
   "id": "d66ca1dc-3684-4343-a8ee-cd8b87ec92b2",
   "metadata": {},
   "outputs": [
    {
     "name": "stdout",
     "output_type": "stream",
     "text": [
      "6.486666666666667\n"
     ]
    }
   ],
   "source": [
    "movies = [\n",
    "{\n",
    "\"name\": \"Usual Suspects\", \n",
    "\"imdb\": 7.0,\n",
    "\"category\": \"Thriller\"\n",
    "},\n",
    "{\n",
    "\"name\": \"Hitman\",\n",
    "\"imdb\": 6.3,\n",
    "\"category\": \"Action\"\n",
    "},\n",
    "{\n",
    "\"name\": \"Dark Knight\",\n",
    "\"imdb\": 9.0,\n",
    "\"category\": \"Adventure\"\n",
    "},\n",
    "{\n",
    "\"name\": \"The Help\",\n",
    "\"imdb\": 8.0,\n",
    "\"category\": \"Drama\"\n",
    "},\n",
    "{\n",
    "\"name\": \"The Choice\",\n",
    "\"imdb\": 6.2,\n",
    "\"category\": \"Romance\"\n",
    "},\n",
    "{\n",
    "\"name\": \"Colonia\",\n",
    "\"imdb\": 7.4,\n",
    "\"category\": \"Romance\"\n",
    "},\n",
    "{\n",
    "\"name\": \"Love\",\n",
    "\"imdb\": 6.0,\n",
    "\"category\": \"Romance\"\n",
    "},\n",
    "{\n",
    "\"name\": \"Bride Wars\",\n",
    "\"imdb\": 5.4,\n",
    "\"category\": \"Romance\"\n",
    "},\n",
    "{\n",
    "\"name\": \"AlphaJet\",\n",
    "\"imdb\": 3.2,\n",
    "\"category\": \"War\"\n",
    "},\n",
    "{\n",
    "\"name\": \"Ringing Crime\",\n",
    "\"imdb\": 4.0,\n",
    "\"category\": \"Crime\"\n",
    "},\n",
    "{\n",
    "\"name\": \"Joking muck\",\n",
    "\"imdb\": 7.2,\n",
    "\"category\": \"Comedy\"\n",
    "},\n",
    "{\n",
    "\"name\": \"What is the name\",\n",
    "\"imdb\": 9.2,\n",
    "\"category\": \"Suspense\"\n",
    "},\n",
    "{\n",
    "\"name\": \"Detective\",\n",
    "\"imdb\": 7.0,\n",
    "\"category\": \"Suspense\"\n",
    "},\n",
    "{\n",
    "\"name\": \"Exam\",\n",
    "\"imdb\": 4.2,\n",
    "\"category\": \"Thriller\"\n",
    "},\n",
    "{\n",
    "\"name\": \"We Two\",\n",
    "\"imdb\": 7.2,\n",
    "\"category\": \"Romance\"\n",
    "}\n",
    "]\n",
    "def average_imdb(movies):\n",
    "    average_s=0\n",
    "    total_mov=len(movies)\n",
    "    for i in movies:\n",
    "        average_s=average_s+i['imdb']\n",
    "    average_s=average_s/total_mov\n",
    "    return average_s\n",
    "ave_score=average_imdb(movies)\n",
    "print(ave_score)"
   ]
  },
  {
   "cell_type": "markdown",
   "id": "67935cb6-4b9e-4ca3-a3be-57dc0cea527b",
   "metadata": {},
   "source": [
    "EXE5"
   ]
  },
  {
   "cell_type": "code",
   "execution_count": 107,
   "id": "95d49cb1-b263-487f-9e1c-cf5a8034b2a0",
   "metadata": {},
   "outputs": [
    {
     "name": "stdout",
     "output_type": "stream",
     "text": [
      "5.6\n"
     ]
    }
   ],
   "source": [
    "movies = [\n",
    "{\n",
    "\"name\": \"Usual Suspects\", \n",
    "\"imdb\": 7.0,\n",
    "\"category\": \"Thriller\"\n",
    "},\n",
    "{\n",
    "\"name\": \"Hitman\",\n",
    "\"imdb\": 6.3,\n",
    "\"category\": \"Action\"\n",
    "},\n",
    "{\n",
    "\"name\": \"Dark Knight\",\n",
    "\"imdb\": 9.0,\n",
    "\"category\": \"Adventure\"\n",
    "},\n",
    "{\n",
    "\"name\": \"The Help\",\n",
    "\"imdb\": 8.0,\n",
    "\"category\": \"Drama\"\n",
    "},\n",
    "{\n",
    "\"name\": \"The Choice\",\n",
    "\"imdb\": 6.2,\n",
    "\"category\": \"Romance\"\n",
    "},\n",
    "{\n",
    "\"name\": \"Colonia\",\n",
    "\"imdb\": 7.4,\n",
    "\"category\": \"Romance\"\n",
    "},\n",
    "{\n",
    "\"name\": \"Love\",\n",
    "\"imdb\": 6.0,\n",
    "\"category\": \"Romance\"\n",
    "},\n",
    "{\n",
    "\"name\": \"Bride Wars\",\n",
    "\"imdb\": 5.4,\n",
    "\"category\": \"Romance\"\n",
    "},\n",
    "{\n",
    "\"name\": \"AlphaJet\",\n",
    "\"imdb\": 3.2,\n",
    "\"category\": \"War\"\n",
    "},\n",
    "{\n",
    "\"name\": \"Ringing Crime\",\n",
    "\"imdb\": 4.0,\n",
    "\"category\": \"Crime\"\n",
    "},\n",
    "{\n",
    "\"name\": \"Joking muck\",\n",
    "\"imdb\": 7.2,\n",
    "\"category\": \"Comedy\"\n",
    "},\n",
    "{\n",
    "\"name\": \"What is the name\",\n",
    "\"imdb\": 9.2,\n",
    "\"category\": \"Suspense\"\n",
    "},\n",
    "{\n",
    "\"name\": \"Detective\",\n",
    "\"imdb\": 7.0,\n",
    "\"category\": \"Suspense\"\n",
    "},\n",
    "{\n",
    "\"name\": \"Exam\",\n",
    "\"imdb\": 4.2,\n",
    "\"category\": \"Thriller\"\n",
    "},\n",
    "{\n",
    "\"name\": \"We Two\",\n",
    "\"imdb\": 7.2,\n",
    "\"category\": \"Romance\"\n",
    "}\n",
    "]\n",
    "def return_movie_category(movies,cat_name): \n",
    "    out_list=[]\n",
    "    for i in movies:\n",
    "        curr_cat=i['category']\n",
    "        if cat_name.lower()==curr_cat.lower():\n",
    "            out_list.append(i)\n",
    "    return out_list\n",
    "def avg_imdb_score(movies): \n",
    "    avg_score=0\n",
    "    tot_movies=len(movies)\n",
    "    for i in movies:\n",
    "        avg_score=avg_score+i['imdb']\n",
    "    avg_score=avg_score/tot_movies\n",
    "    return avg_score\n",
    "def average_imdb_categ(movies,cat_name):\n",
    "    cat_movies=return_movie_category(movies,cat_name)\n",
    "    avg_score=avg_imdb_score(cat_movies)\n",
    "    return avg_score\n",
    "s2=average_imdb_categ(movies,'Thriller')\n",
    "print(s2)"
   ]
  },
  {
   "cell_type": "raw",
   "id": "5b207f59-23e8-480f-82d5-ac2073ebefde",
   "metadata": {},
   "source": [
    "CLASSES"
   ]
  },
  {
   "cell_type": "markdown",
   "id": "3490df3c-fd1d-4e82-bc54-79d19845b839",
   "metadata": {},
   "source": [
    "EXE1"
   ]
  },
  {
   "cell_type": "code",
   "execution_count": 1,
   "id": "8d9f56a6-013c-4dd7-aec3-b0611b0268c9",
   "metadata": {},
   "outputs": [
    {
     "name": "stdin",
     "output_type": "stream",
     "text": [
      " upper\n"
     ]
    },
    {
     "name": "stdout",
     "output_type": "stream",
     "text": [
      "UPPER\n"
     ]
    }
   ],
   "source": [
    "class iostring():\n",
    "    def __init__(self):\n",
    "        self.str1 = \"\"\n",
    "\n",
    "    def get_String(self):\n",
    "        self.str1 = input()\n",
    "\n",
    "    def print_String(self):\n",
    "        print(self.str1.upper())\n",
    "\n",
    "str1 = iostring()\n",
    "str1.get_String()\n",
    "str1.print_String()"
   ]
  },
  {
   "cell_type": "markdown",
   "id": "dd8b8321-22c3-4d46-a49d-f2d6286bda3c",
   "metadata": {},
   "source": [
    "EXE2"
   ]
  },
  {
   "cell_type": "code",
   "execution_count": 112,
   "id": "91e7f063-c1f5-4cda-a19f-c2006b5ad35f",
   "metadata": {},
   "outputs": [
    {
     "name": "stdout",
     "output_type": "stream",
     "text": [
      "25\n"
     ]
    }
   ],
   "source": [
    "class Shape():\n",
    "    def __init__(self):\n",
    "        pass\n",
    "\n",
    "    def area(self):\n",
    "        return 0\n",
    "\n",
    "class Square(Shape):\n",
    "    def __init__(self,length = 0):\n",
    "        Shape.__init__(self)\n",
    "        self.length = length\n",
    "\n",
    "    def area(self):\n",
    "        return self.length*self.length\n",
    "\n",
    "Asqr = Square(5)\n",
    "print(Asqr.area())    "
   ]
  },
  {
   "cell_type": "markdown",
   "id": "e132f4ae-f13f-41ac-9025-c6f5fe00899b",
   "metadata": {},
   "source": [
    "EXE3"
   ]
  },
  {
   "cell_type": "code",
   "execution_count": 113,
   "id": "7721653a-60c5-45a9-aaff-3232c243cad0",
   "metadata": {},
   "outputs": [
    {
     "name": "stdout",
     "output_type": "stream",
     "text": [
      "8\n"
     ]
    }
   ],
   "source": [
    "class Rectangle():\n",
    "    def __init__(self,l,w):\n",
    "        self.length = l\n",
    "        self.width = w\n",
    "\n",
    "    def area(self):\n",
    "        return self.length*self.width\n",
    "\n",
    "\n",
    "rect = Rectangle(2,4)\n",
    "print(rect.area())"
   ]
  },
  {
   "cell_type": "markdown",
   "id": "6921df0f-cd61-43a6-9c79-9445aec1d923",
   "metadata": {},
   "source": [
    "EXE4"
   ]
  },
  {
   "cell_type": "code",
   "execution_count": 6,
   "id": "af7d9ada-9e2b-4bf6-8839-51fc1541d30a",
   "metadata": {},
   "outputs": [
    {
     "name": "stdout",
     "output_type": "stream",
     "text": [
      "1 6\n",
      "THe distances between points is 5\n"
     ]
    },
    {
     "name": "stdin",
     "output_type": "stream",
     "text": [
      " 5\n",
      " 25\n"
     ]
    },
    {
     "name": "stdout",
     "output_type": "stream",
     "text": [
      "THe distances between points is 20\n"
     ]
    }
   ],
   "source": [
    "class point():\n",
    "    def __init__(self,x1,x2):\n",
    "        self.x1=x1\n",
    "        self.x2=x2\n",
    "    def show(self):\n",
    "        print(self.x1,self.x2)\n",
    "    def move(self):\n",
    "        self.x1=int(input())\n",
    "        self.x2=int(input())\n",
    "    def dist(self):\n",
    "        print(f\"THe distances between points is {abs(self.x1-self.x2)}\")\n",
    "points=point(1,6)\n",
    "points.show()\n",
    "points.dist()\n",
    "points.move()\n",
    "points.dist()"
   ]
  },
  {
   "cell_type": "markdown",
   "id": "25d03b4a-e7ae-4067-ab31-f182a726f3b6",
   "metadata": {},
   "source": [
    "EXE5"
   ]
  },
  {
   "cell_type": "code",
   "execution_count": null,
   "id": "386eeec8-fd92-487c-9809-50c79fb906c4",
   "metadata": {},
   "outputs": [],
   "source": [
    "class Bank_Account:\n",
    "    def __init__(self,owner,balance):\n",
    "        self.owner = owner\n",
    "        self.balance = balance   \n",
    "    def deposit(self):\n",
    "        print(\"deposit(in):\")\n",
    "        inn=float(input())\n",
    "        self.balance +=inn\n",
    "        return Bank_Account(self.owner,self.balance)\n",
    "    def withdraw(self):\n",
    "        print(\"withdraw(out):\")\n",
    "        out=float(input())\n",
    "        while out>=self.balance:\n",
    "            print(\"withdraw(out):\")\n",
    "            out=float(input())\n",
    "        self.balance-=out\n",
    "        return Bank_Account(self.owner,self.balance)\n",
    "    def __str__(self):\n",
    "        print( f\"You have {self.balance} in your bank\")\n",
    "account=Bank_Account(input()),float(input())\n",
    "Bank_Account.deposit(account)\n",
    "Bank_Account.withdraw(account)\n",
    "print(Bank_Account)"
   ]
  },
  {
   "cell_type": "markdown",
   "id": "a1b49a56-584f-4142-b286-27958c19d55f",
   "metadata": {},
   "source": [
    "EXE6"
   ]
  },
  {
   "cell_type": "code",
   "execution_count": 117,
   "id": "55d553b5-8213-4302-85e1-c027017e7bb8",
   "metadata": {},
   "outputs": [],
   "source": [
    "def filter_prime(n):\n",
    "    for i in range (2,n):\n",
    "        if n%i==0:\n",
    "            return False\n",
    "        return True\n",
    "n=int(input())\n",
    "empty_list=[]\n",
    "for i in range (n):\n",
    "    x=int(input())\n",
    "    l.append(x)\n",
    "prime=list(filter(lambda x: filter_prime(x),l)\n",
    "print(prime)"
   ]
  },
  {
   "cell_type": "code",
   "execution_count": null,
   "id": "64093378-5a58-4626-b229-7e0d925863ac",
   "metadata": {},
   "outputs": [],
   "source": []
  }
 ],
 "metadata": {
  "kernelspec": {
   "display_name": "Python 3 (ipykernel)",
   "language": "python",
   "name": "python3"
  },
  "language_info": {
   "codemirror_mode": {
    "name": "ipython",
    "version": 3
   },
   "file_extension": ".py",
   "mimetype": "text/x-python",
   "name": "python",
   "nbconvert_exporter": "python",
   "pygments_lexer": "ipython3",
   "version": "3.9.13"
  }
 },
 "nbformat": 4,
 "nbformat_minor": 5
}
