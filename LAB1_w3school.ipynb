{
 "cells": [
  {
   "cell_type": "markdown",
   "id": "f0a5a70f",
   "metadata": {},
   "source": [
    "syntax_exe1\n"
   ]
  },
  {
   "cell_type": "code",
   "execution_count": 1,
   "id": "3f44e551",
   "metadata": {},
   "outputs": [
    {
     "name": "stdout",
     "output_type": "stream",
     "text": [
      "Hello World\n"
     ]
    }
   ],
   "source": [
    "print(\"Hello World\")"
   ]
  },
  {
   "cell_type": "markdown",
   "id": "a8e159f2",
   "metadata": {},
   "source": [
    "syntax_exe2"
   ]
  },
  {
   "cell_type": "code",
   "execution_count": 3,
   "id": "23a79908",
   "metadata": {},
   "outputs": [
    {
     "name": "stdout",
     "output_type": "stream",
     "text": [
      "Five is greater than two!\n"
     ]
    }
   ],
   "source": [
    "if 5 > 2:\n",
    "    print(\"Five is greater than two!\")"
   ]
  },
  {
   "cell_type": "markdown",
   "id": "3aa39961",
   "metadata": {},
   "source": [
    "comments_exe1"
   ]
  },
  {
   "cell_type": "code",
   "execution_count": 4,
   "id": "a6301159",
   "metadata": {},
   "outputs": [],
   "source": [
    "#This is a comment"
   ]
  },
  {
   "cell_type": "markdown",
   "id": "40fd7c51",
   "metadata": {},
   "source": [
    "comments_exe2"
   ]
  },
  {
   "cell_type": "code",
   "execution_count": 15,
   "id": "cc401375",
   "metadata": {},
   "outputs": [
    {
     "name": "stdout",
     "output_type": "stream",
     "text": [
      "\n",
      "This is a comment\n",
      "written in \n",
      "more than just one line\n",
      "\n"
     ]
    }
   ],
   "source": [
    "a=\"\"\"\n",
    "This is a comment\n",
    "written in \n",
    "more than just one line\n",
    "\"\"\"\n",
    "print(a)"
   ]
  },
  {
   "cell_type": "markdown",
   "id": "1d3d6ac2",
   "metadata": {},
   "source": [
    "variables_exe1"
   ]
  },
  {
   "cell_type": "code",
   "execution_count": 14,
   "id": "32627fbc",
   "metadata": {},
   "outputs": [
    {
     "name": "stdout",
     "output_type": "stream",
     "text": [
      "Volvo\n"
     ]
    }
   ],
   "source": [
    "carname = \"Volvo\"\n",
    "print(carname)"
   ]
  },
  {
   "cell_type": "markdown",
   "id": "be45b105",
   "metadata": {},
   "source": [
    "variables_exe2"
   ]
  },
  {
   "cell_type": "code",
   "execution_count": 13,
   "id": "a6cf6735",
   "metadata": {},
   "outputs": [
    {
     "name": "stdout",
     "output_type": "stream",
     "text": [
      "50\n"
     ]
    }
   ],
   "source": [
    "x=50\n",
    "print(x)"
   ]
  },
  {
   "cell_type": "markdown",
   "id": "f327ce4a",
   "metadata": {},
   "source": [
    "variables_exe3"
   ]
  },
  {
   "cell_type": "code",
   "execution_count": 8,
   "id": "0a466015",
   "metadata": {},
   "outputs": [
    {
     "name": "stdout",
     "output_type": "stream",
     "text": [
      "15\n"
     ]
    }
   ],
   "source": [
    "x=5\n",
    "y=10\n",
    "print(x+y)"
   ]
  },
  {
   "cell_type": "markdown",
   "id": "c088f821",
   "metadata": {},
   "source": [
    "variables_exe4"
   ]
  },
  {
   "cell_type": "code",
   "execution_count": 9,
   "id": "d58e633c",
   "metadata": {},
   "outputs": [
    {
     "name": "stdout",
     "output_type": "stream",
     "text": [
      "15\n"
     ]
    }
   ],
   "source": [
    "x=5\n",
    "y=10\n",
    "z=x+y\n",
    "print(z)"
   ]
  },
  {
   "cell_type": "markdown",
   "id": "c8e0842a",
   "metadata": {},
   "source": [
    "variables_exe5"
   ]
  },
  {
   "cell_type": "code",
   "execution_count": 12,
   "id": "d5c8c290",
   "metadata": {},
   "outputs": [
    {
     "name": "stdout",
     "output_type": "stream",
     "text": [
      "John\n"
     ]
    }
   ],
   "source": [
    "myfirst_name=\"John\"\n",
    "print(myfirst_name)"
   ]
  },
  {
   "cell_type": "markdown",
   "id": "31b2669f",
   "metadata": {},
   "source": [
    "variables_exe6"
   ]
  },
  {
   "cell_type": "code",
   "execution_count": 11,
   "id": "1e6f0bd9",
   "metadata": {},
   "outputs": [
    {
     "name": "stdout",
     "output_type": "stream",
     "text": [
      "Orange Orange Orange\n"
     ]
    }
   ],
   "source": [
    "x=y=z=\"Orange\"\n",
    "print(x,y,z)"
   ]
  },
  {
   "cell_type": "markdown",
   "id": "2925d81e",
   "metadata": {},
   "source": [
    "variables_exe7"
   ]
  },
  {
   "cell_type": "code",
   "execution_count": 18,
   "id": "9358de47",
   "metadata": {},
   "outputs": [],
   "source": [
    "def myfunc():\n",
    "    global x\n",
    "    x=\"fantastic\"\n",
    "    print(myfunc())"
   ]
  },
  {
   "cell_type": "markdown",
   "id": "ba2f5598",
   "metadata": {},
   "source": [
    "data_types_exe1"
   ]
  },
  {
   "cell_type": "code",
   "execution_count": 24,
   "id": "a54e459c",
   "metadata": {},
   "outputs": [
    {
     "name": "stdout",
     "output_type": "stream",
     "text": [
      "<class 'int'>\n"
     ]
    }
   ],
   "source": [
    "x=5\n",
    "print(type(x))"
   ]
  },
  {
   "cell_type": "markdown",
   "id": "15436320",
   "metadata": {},
   "source": [
    "data_types_exe2"
   ]
  },
  {
   "cell_type": "code",
   "execution_count": 20,
   "id": "d3a386df",
   "metadata": {},
   "outputs": [
    {
     "name": "stdout",
     "output_type": "stream",
     "text": [
      "<class 'str'>\n"
     ]
    }
   ],
   "source": [
    "x=\"Hello World\"\n",
    "print(type(x))"
   ]
  },
  {
   "cell_type": "markdown",
   "id": "5041771e",
   "metadata": {},
   "source": [
    "data_types_exe3"
   ]
  },
  {
   "cell_type": "code",
   "execution_count": 21,
   "id": "a438547d",
   "metadata": {},
   "outputs": [
    {
     "name": "stdout",
     "output_type": "stream",
     "text": [
      "<class 'float'>\n"
     ]
    }
   ],
   "source": [
    "x=20.5\n",
    "print(type(x))"
   ]
  },
  {
   "cell_type": "markdown",
   "id": "afbe3a70",
   "metadata": {},
   "source": [
    "data_types_exe4"
   ]
  },
  {
   "cell_type": "code",
   "execution_count": 22,
   "id": "cef00720",
   "metadata": {},
   "outputs": [
    {
     "name": "stdout",
     "output_type": "stream",
     "text": [
      "<class 'list'>\n"
     ]
    }
   ],
   "source": [
    "x = [\"apple\", \"banana\", \"cherry\"]\n",
    "print(type(x))"
   ]
  },
  {
   "cell_type": "markdown",
   "id": "b33bb245",
   "metadata": {},
   "source": [
    "data_types_exe5"
   ]
  },
  {
   "cell_type": "code",
   "execution_count": 23,
   "id": "c8e55a86",
   "metadata": {},
   "outputs": [
    {
     "name": "stdout",
     "output_type": "stream",
     "text": [
      "<class 'tuple'>\n"
     ]
    }
   ],
   "source": [
    "x = (\"apple\", \"banana\", \"cherry\")\n",
    "print(type(x))"
   ]
  },
  {
   "cell_type": "markdown",
   "id": "93d7d80a",
   "metadata": {},
   "source": [
    "data_types_exe6"
   ]
  },
  {
   "cell_type": "code",
   "execution_count": 26,
   "id": "297c14ea",
   "metadata": {},
   "outputs": [
    {
     "name": "stdout",
     "output_type": "stream",
     "text": [
      "<class 'dict'>\n"
     ]
    }
   ],
   "source": [
    "x = {\"name\" : \"John\", \"age\" : 36}\n",
    "print(type(x))"
   ]
  },
  {
   "cell_type": "markdown",
   "id": "833ac5c8",
   "metadata": {},
   "source": [
    "data_types_exe7"
   ]
  },
  {
   "cell_type": "code",
   "execution_count": 27,
   "id": "aa43f83e",
   "metadata": {},
   "outputs": [
    {
     "name": "stdout",
     "output_type": "stream",
     "text": [
      "<class 'bool'>\n"
     ]
    }
   ],
   "source": [
    "x = True\n",
    "print(type(x))"
   ]
  },
  {
   "cell_type": "markdown",
   "id": "d0e12e25",
   "metadata": {},
   "source": [
    "numbers_exe1"
   ]
  },
  {
   "cell_type": "code",
   "execution_count": 28,
   "id": "1d96e469",
   "metadata": {},
   "outputs": [
    {
     "name": "stdout",
     "output_type": "stream",
     "text": [
      "5.0\n"
     ]
    }
   ],
   "source": [
    "x=5\n",
    "x=float(x)\n",
    "print(x)"
   ]
  },
  {
   "cell_type": "markdown",
   "id": "9e51cc59",
   "metadata": {},
   "source": [
    "numbers_exe2"
   ]
  },
  {
   "cell_type": "code",
   "execution_count": 29,
   "id": "4f04a55e",
   "metadata": {},
   "outputs": [
    {
     "name": "stdout",
     "output_type": "stream",
     "text": [
      "5\n"
     ]
    }
   ],
   "source": [
    "x=5.5\n",
    "x=int(x)\n",
    "print(x)"
   ]
  },
  {
   "cell_type": "markdown",
   "id": "0cd722d9",
   "metadata": {},
   "source": [
    "numbers_exe3"
   ]
  },
  {
   "cell_type": "code",
   "execution_count": 30,
   "id": "9b811be5",
   "metadata": {},
   "outputs": [
    {
     "name": "stdout",
     "output_type": "stream",
     "text": [
      "(5+0j)\n"
     ]
    }
   ],
   "source": [
    "x=5\n",
    "x=complex(x)\n",
    "print(x)"
   ]
  },
  {
   "cell_type": "markdown",
   "id": "98c89363",
   "metadata": {},
   "source": [
    "casting_exe1"
   ]
  },
  {
   "cell_type": "code",
   "execution_count": 31,
   "id": "d0493426",
   "metadata": {},
   "outputs": [
    {
     "name": "stdout",
     "output_type": "stream",
     "text": [
      "1.0 3 3.5\n"
     ]
    }
   ],
   "source": [
    "x = float(1) \n",
    "y = int(\"3\") \n",
    "z = str(3.5) \n",
    "print(x,y,z)"
   ]
  },
  {
   "cell_type": "markdown",
   "id": "54e6b863",
   "metadata": {},
   "source": [
    "strings_exe1"
   ]
  },
  {
   "cell_type": "code",
   "execution_count": 32,
   "id": "0b07b0d8",
   "metadata": {},
   "outputs": [
    {
     "name": "stdout",
     "output_type": "stream",
     "text": [
      "11\n"
     ]
    }
   ],
   "source": [
    "x=\"Hello World\"\n",
    "print(len(x))"
   ]
  },
  {
   "cell_type": "markdown",
   "id": "c8f27c0c",
   "metadata": {},
   "source": [
    "strings_exe2"
   ]
  },
  {
   "cell_type": "code",
   "execution_count": 33,
   "id": "47965a90",
   "metadata": {},
   "outputs": [
    {
     "name": "stdout",
     "output_type": "stream",
     "text": [
      "H\n"
     ]
    }
   ],
   "source": [
    "txt=\"Hello World\"\n",
    "x=txt[0]\n",
    "print(x)"
   ]
  },
  {
   "cell_type": "markdown",
   "id": "c9345f9c",
   "metadata": {},
   "source": [
    "strings_exe3"
   ]
  },
  {
   "cell_type": "code",
   "execution_count": 34,
   "id": "6ec9dec2",
   "metadata": {},
   "outputs": [
    {
     "name": "stdout",
     "output_type": "stream",
     "text": [
      "llo\n"
     ]
    }
   ],
   "source": [
    "txt=\"Hello World\"\n",
    "x=txt[2:5]\n",
    "print(x)"
   ]
  },
  {
   "cell_type": "markdown",
   "id": "3c5a7c57",
   "metadata": {},
   "source": [
    "strings_exe4"
   ]
  },
  {
   "cell_type": "code",
   "execution_count": 42,
   "id": "bfc37b15",
   "metadata": {},
   "outputs": [
    {
     "name": "stdout",
     "output_type": "stream",
     "text": [
      " Hello World \n"
     ]
    }
   ],
   "source": [
    "txt=\" Hello World \"\n",
    "x=txt.strip()\n",
    "print(txt)"
   ]
  },
  {
   "cell_type": "markdown",
   "id": "c0af1b10",
   "metadata": {},
   "source": [
    "strings_exe5"
   ]
  },
  {
   "cell_type": "code",
   "execution_count": 41,
   "id": "ed099c4d",
   "metadata": {},
   "outputs": [
    {
     "name": "stdout",
     "output_type": "stream",
     "text": [
      "HELLO WORLD\n"
     ]
    }
   ],
   "source": [
    "txt = \"Hello World\"\n",
    "txt = txt.upper()\n",
    "print(txt)"
   ]
  },
  {
   "cell_type": "markdown",
   "id": "b566e419",
   "metadata": {},
   "source": [
    "strings_exe6"
   ]
  },
  {
   "cell_type": "code",
   "execution_count": 43,
   "id": "75827032",
   "metadata": {},
   "outputs": [
    {
     "name": "stdout",
     "output_type": "stream",
     "text": [
      "hello world\n"
     ]
    }
   ],
   "source": [
    "txt = \"Hello World\"\n",
    "txt = txt.lower()\n",
    "print(txt)"
   ]
  },
  {
   "cell_type": "markdown",
   "id": "73b22d71",
   "metadata": {},
   "source": [
    "strings_exe7"
   ]
  },
  {
   "cell_type": "code",
   "execution_count": 44,
   "id": "8bf5f501",
   "metadata": {},
   "outputs": [
    {
     "name": "stdout",
     "output_type": "stream",
     "text": [
      "Jello World\n"
     ]
    }
   ],
   "source": [
    "txt = \"Hello World\"\n",
    "txt = txt.replace(\"H\", \"J\")\n",
    "print(txt)"
   ]
  },
  {
   "cell_type": "markdown",
   "id": "90ca25aa",
   "metadata": {},
   "source": [
    "strings_exe8"
   ]
  },
  {
   "cell_type": "code",
   "execution_count": 45,
   "id": "458e3b30",
   "metadata": {},
   "outputs": [
    {
     "name": "stdout",
     "output_type": "stream",
     "text": [
      "My name is John, and I am 36\n"
     ]
    }
   ],
   "source": [
    "age = 36\n",
    "txt = \"My name is John, and I am {}\"\n",
    "print(txt.format(age))"
   ]
  },
  {
   "cell_type": "code",
   "execution_count": null,
   "id": "a66c1b79",
   "metadata": {},
   "outputs": [],
   "source": []
  }
 ],
 "metadata": {
  "kernelspec": {
   "display_name": "Python 3 (ipykernel)",
   "language": "python",
   "name": "python3"
  },
  "language_info": {
   "codemirror_mode": {
    "name": "ipython",
    "version": 3
   },
   "file_extension": ".py",
   "mimetype": "text/x-python",
   "name": "python",
   "nbconvert_exporter": "python",
   "pygments_lexer": "ipython3",
   "version": "3.9.13"
  }
 },
 "nbformat": 4,
 "nbformat_minor": 5
}
