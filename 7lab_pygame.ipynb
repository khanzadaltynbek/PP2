{
 "cells": [
  {
   "cell_type": "markdown",
   "id": "7c8f1c3a",
   "metadata": {},
   "source": [
    "exe1"
   ]
  },
  {
   "cell_type": "code",
   "execution_count": null,
   "id": "1007a121",
   "metadata": {},
   "outputs": [],
   "source": [
    "# simple clock\n"
   ]
  },
  {
   "cell_type": "markdown",
   "id": "a0edece4",
   "metadata": {},
   "source": [
    "exe2"
   ]
  },
  {
   "cell_type": "code",
   "execution_count": 1,
   "id": "2c20b5c5",
   "metadata": {},
   "outputs": [
    {
     "name": "stdout",
     "output_type": "stream",
     "text": [
      "pygame 2.3.0 (SDL 2.24.2, Python 3.9.13)\n",
      "Hello from the pygame community. https://www.pygame.org/contribute.html\n"
     ]
    },
    {
     "ename": "TclError",
     "evalue": "couldn't open \"play.png\": no such file or directory",
     "output_type": "error",
     "traceback": [
      "\u001b[1;31m---------------------------------------------------------------------------\u001b[0m",
      "\u001b[1;31mTclError\u001b[0m                                  Traceback (most recent call last)",
      "\u001b[1;32m~\\AppData\\Local\\Temp\\ipykernel_55892\\2976594394.py\u001b[0m in \u001b[0;36m<module>\u001b[1;34m\u001b[0m\n\u001b[0;32m     79\u001b[0m \u001b[0msonglist\u001b[0m\u001b[1;33m.\u001b[0m\u001b[0mpack\u001b[0m\u001b[1;33m(\u001b[0m\u001b[1;33m)\u001b[0m\u001b[1;33m\u001b[0m\u001b[1;33m\u001b[0m\u001b[0m\n\u001b[0;32m     80\u001b[0m \u001b[1;31m# /Users/altyn/OneDrive/Documents/ANACONDA_1/\u001b[0m\u001b[1;33m\u001b[0m\u001b[1;33m\u001b[0m\u001b[0m\n\u001b[1;32m---> 81\u001b[1;33m \u001b[0mplay_btn_image\u001b[0m \u001b[1;33m=\u001b[0m \u001b[0mPhotoImage\u001b[0m\u001b[1;33m(\u001b[0m\u001b[0mfile\u001b[0m\u001b[1;33m=\u001b[0m\u001b[1;34m'play.png'\u001b[0m\u001b[1;33m)\u001b[0m\u001b[1;33m\u001b[0m\u001b[1;33m\u001b[0m\u001b[0m\n\u001b[0m\u001b[0;32m     82\u001b[0m \u001b[0mpause_btn_image\u001b[0m \u001b[1;33m=\u001b[0m \u001b[0mPhotoImage\u001b[0m\u001b[1;33m(\u001b[0m\u001b[0mfile\u001b[0m\u001b[1;33m=\u001b[0m\u001b[1;34m'pause.png'\u001b[0m\u001b[1;33m)\u001b[0m\u001b[1;33m\u001b[0m\u001b[1;33m\u001b[0m\u001b[0m\n\u001b[0;32m     83\u001b[0m \u001b[0mnext_btn_image\u001b[0m \u001b[1;33m=\u001b[0m \u001b[0mPhotoImage\u001b[0m\u001b[1;33m(\u001b[0m\u001b[0mfile\u001b[0m\u001b[1;33m=\u001b[0m\u001b[1;34m'next.png'\u001b[0m\u001b[1;33m)\u001b[0m\u001b[1;33m\u001b[0m\u001b[1;33m\u001b[0m\u001b[0m\n",
      "\u001b[1;32m~\\anaconda3\\lib\\tkinter\\__init__.py\u001b[0m in \u001b[0;36m__init__\u001b[1;34m(self, name, cnf, master, **kw)\u001b[0m\n\u001b[0;32m   4062\u001b[0m         \u001b[0mValid\u001b[0m \u001b[0mresource\u001b[0m \u001b[0mnames\u001b[0m\u001b[1;33m:\u001b[0m \u001b[0mdata\u001b[0m\u001b[1;33m,\u001b[0m \u001b[0mformat\u001b[0m\u001b[1;33m,\u001b[0m \u001b[0mfile\u001b[0m\u001b[1;33m,\u001b[0m \u001b[0mgamma\u001b[0m\u001b[1;33m,\u001b[0m \u001b[0mheight\u001b[0m\u001b[1;33m,\u001b[0m \u001b[0mpalette\u001b[0m\u001b[1;33m,\u001b[0m\u001b[1;33m\u001b[0m\u001b[1;33m\u001b[0m\u001b[0m\n\u001b[0;32m   4063\u001b[0m         width.\"\"\"\n\u001b[1;32m-> 4064\u001b[1;33m         \u001b[0mImage\u001b[0m\u001b[1;33m.\u001b[0m\u001b[0m__init__\u001b[0m\u001b[1;33m(\u001b[0m\u001b[0mself\u001b[0m\u001b[1;33m,\u001b[0m \u001b[1;34m'photo'\u001b[0m\u001b[1;33m,\u001b[0m \u001b[0mname\u001b[0m\u001b[1;33m,\u001b[0m \u001b[0mcnf\u001b[0m\u001b[1;33m,\u001b[0m \u001b[0mmaster\u001b[0m\u001b[1;33m,\u001b[0m \u001b[1;33m**\u001b[0m\u001b[0mkw\u001b[0m\u001b[1;33m)\u001b[0m\u001b[1;33m\u001b[0m\u001b[1;33m\u001b[0m\u001b[0m\n\u001b[0m\u001b[0;32m   4065\u001b[0m \u001b[1;33m\u001b[0m\u001b[0m\n\u001b[0;32m   4066\u001b[0m     \u001b[1;32mdef\u001b[0m \u001b[0mblank\u001b[0m\u001b[1;33m(\u001b[0m\u001b[0mself\u001b[0m\u001b[1;33m)\u001b[0m\u001b[1;33m:\u001b[0m\u001b[1;33m\u001b[0m\u001b[1;33m\u001b[0m\u001b[0m\n",
      "\u001b[1;32m~\\anaconda3\\lib\\tkinter\\__init__.py\u001b[0m in \u001b[0;36m__init__\u001b[1;34m(self, imgtype, name, cnf, master, **kw)\u001b[0m\n\u001b[0;32m   4007\u001b[0m                 \u001b[0mv\u001b[0m \u001b[1;33m=\u001b[0m \u001b[0mself\u001b[0m\u001b[1;33m.\u001b[0m\u001b[0m_register\u001b[0m\u001b[1;33m(\u001b[0m\u001b[0mv\u001b[0m\u001b[1;33m)\u001b[0m\u001b[1;33m\u001b[0m\u001b[1;33m\u001b[0m\u001b[0m\n\u001b[0;32m   4008\u001b[0m             \u001b[0moptions\u001b[0m \u001b[1;33m=\u001b[0m \u001b[0moptions\u001b[0m \u001b[1;33m+\u001b[0m \u001b[1;33m(\u001b[0m\u001b[1;34m'-'\u001b[0m\u001b[1;33m+\u001b[0m\u001b[0mk\u001b[0m\u001b[1;33m,\u001b[0m \u001b[0mv\u001b[0m\u001b[1;33m)\u001b[0m\u001b[1;33m\u001b[0m\u001b[1;33m\u001b[0m\u001b[0m\n\u001b[1;32m-> 4009\u001b[1;33m         \u001b[0mself\u001b[0m\u001b[1;33m.\u001b[0m\u001b[0mtk\u001b[0m\u001b[1;33m.\u001b[0m\u001b[0mcall\u001b[0m\u001b[1;33m(\u001b[0m\u001b[1;33m(\u001b[0m\u001b[1;34m'image'\u001b[0m\u001b[1;33m,\u001b[0m \u001b[1;34m'create'\u001b[0m\u001b[1;33m,\u001b[0m \u001b[0mimgtype\u001b[0m\u001b[1;33m,\u001b[0m \u001b[0mname\u001b[0m\u001b[1;33m,\u001b[0m\u001b[1;33m)\u001b[0m \u001b[1;33m+\u001b[0m \u001b[0moptions\u001b[0m\u001b[1;33m)\u001b[0m\u001b[1;33m\u001b[0m\u001b[1;33m\u001b[0m\u001b[0m\n\u001b[0m\u001b[0;32m   4010\u001b[0m         \u001b[0mself\u001b[0m\u001b[1;33m.\u001b[0m\u001b[0mname\u001b[0m \u001b[1;33m=\u001b[0m \u001b[0mname\u001b[0m\u001b[1;33m\u001b[0m\u001b[1;33m\u001b[0m\u001b[0m\n\u001b[0;32m   4011\u001b[0m \u001b[1;33m\u001b[0m\u001b[0m\n",
      "\u001b[1;31mTclError\u001b[0m: couldn't open \"play.png\": no such file or directory"
     ]
    }
   ],
   "source": [
    "# music player\n",
    "from tkinter import filedialog\n",
    "from tkinter import *\n",
    "import pygame\n",
    "import os\n",
    "pygame.init()\n",
    "\n",
    "root = Tk()\n",
    "root.title(\"Music player by Khanz\")\n",
    "root.geometry('500x300')\n",
    "\n",
    "pygame.mixer.init()\n",
    "\n",
    "menubar = Menu(root)\n",
    "root.config(menu=menubar)\n",
    "\n",
    "songs = []\n",
    "current_song = \"\"\n",
    "paused = False\n",
    "\n",
    "\n",
    "def load_music():\n",
    "    global current_song\n",
    "    root.directory = filedialog.askdirectory()\n",
    "\n",
    "    for song in os.listdir(root.directory):\n",
    "        name, ext = os.path.splitext(song)\n",
    "        if ext == '.mp3':\n",
    "            songs.append(song)\n",
    "    for song in songs:\n",
    "        songlist.insert(\"end\", song)\n",
    "    songlist.selection_set(0)\n",
    "    current_song = songs[songlist.curselection()[0]]\n",
    "\n",
    "\n",
    "def play_music():\n",
    "    global current_song, paused\n",
    "    if not paused:\n",
    "        pygame.mixer.music.load(os.path.join(root.directory, current_song))\n",
    "        pygame.mixer.music.play()\n",
    "    else:\n",
    "        pygame.mixer.music.unpause()\n",
    "        paused = False\n",
    "\n",
    "\n",
    "def pause_music():\n",
    "    global pause\n",
    "    pygame.mixer.music.pause()\n",
    "    paused = True\n",
    "\n",
    "\n",
    "def next_music():\n",
    "    global current_song, paused\n",
    "    try:\n",
    "        songlist.selection_clear(0, END)\n",
    "        songlist.selection_set(songs.index(current_song) + 1)\n",
    "        current_song = songs[songlist.curselection()[0]]\n",
    "        play_music()\n",
    "    except:\n",
    "        pass\n",
    "\n",
    "\n",
    "def prev_music():\n",
    "    global current_song, paused\n",
    "    try:\n",
    "        songlist.selection_clear(0, END)\n",
    "        songlist.selection_set(songs.index(current_song) - 1)\n",
    "        current_song = songs[songlist.curselection()[0]]\n",
    "        play_music()\n",
    "    except:\n",
    "        pass\n",
    "\n",
    "\n",
    "organise_menu = Menu(menubar, tearoff=False)\n",
    "organise_menu.add_command(label='Select Folder', command=load_music)\n",
    "menubar.add_cascade(label='Organise', menu=organise_menu)\n",
    "\n",
    "songlist = Listbox(root, bg=\"black\", fg=\"white\", width=100, height=15)\n",
    "songlist.pack()\n",
    "# /Users/altyn/OneDrive/Documents/ANACONDA_1/\n",
    "play_btn_image = PhotoImage(file='play.png')\n",
    "pause_btn_image = PhotoImage(file='pause.png')\n",
    "next_btn_image = PhotoImage(file='next.png')\n",
    "prev_btn_image = PhotoImage(file='prev.png')\n",
    "\n",
    "control_frame = Frame(root)\n",
    "control_frame.pack()\n",
    "\n",
    "play_btn = Button(control_frame, image=play_btn_image, borderwidth=0, command=play_music)\n",
    "pause_btn = Button(control_frame, image=pause_btn_image, borderwidth=0, command=pause_music)\n",
    "next_btn = Button(control_frame, image=next_btn_image, borderwidth=0, command=next_music)\n",
    "prev_btn = Button(control_frame, image=prev_btn_image, borderwidth=0, command=prev_music)\n",
    "\n",
    "play_btn.grid(row=0, column=1, padx=7, pady=10)\n",
    "pause_btn.grid(row=0, column=2, padx=7, pady=10)\n",
    "next_btn.grid(row=0, column=3, padx=7, pady=10)\n",
    "prev_btn.grid(row=0, column=0, padx=7, pady=10)\n",
    "\n",
    "root.mainloop()"
   ]
  },
  {
   "cell_type": "markdown",
   "id": "b43020c5",
   "metadata": {},
   "source": [
    "exe3"
   ]
  },
  {
   "cell_type": "code",
   "execution_count": 2,
   "id": "1e5b6b39",
   "metadata": {},
   "outputs": [
    {
     "ename": "SystemExit",
     "evalue": "",
     "output_type": "error",
     "traceback": [
      "An exception has occurred, use %tb to see the full traceback.\n",
      "\u001b[1;31mSystemExit\u001b[0m\n"
     ]
    },
    {
     "name": "stderr",
     "output_type": "stream",
     "text": [
      "C:\\Users\\altyn\\anaconda3\\lib\\site-packages\\IPython\\core\\interactiveshell.py:3465: UserWarning: To exit: use 'exit', 'quit', or Ctrl-D.\n",
      "  warn(\"To exit: use 'exit', 'quit', or Ctrl-D.\", stacklevel=1)\n"
     ]
    }
   ],
   "source": [
    "# red ball\n",
    "import pygame\n",
    "import sys\n",
    "pygame.init()\n",
    "\n",
    "W=800\n",
    "H=800\n",
    "\n",
    "sc=pygame.display.set_mode((W,H))\n",
    "pygame.display.set_caption('Red Circle')\n",
    "\n",
    "WHITE=(255,255,255)\n",
    "RED=(255,0,0)\n",
    "\n",
    "FPS=60\n",
    "clock=pygame.time.Clock()\n",
    "x=400\n",
    "y=400\n",
    "speed=20\n",
    "\n",
    "flLeft=flRight=flUp=flDown=False\n",
    "while 1:\n",
    "    for event in pygame.event.get():\n",
    "        if event.type==pygame.QUIT:\n",
    "            pygame.quit()\n",
    "            sys.exit()\n",
    "        elif event.type==pygame.KEYDOWN:\n",
    "            if event.key==pygame.K_LEFT:\n",
    "                flLeft=True\n",
    "            elif event.key==pygame.K_RIGHT:\n",
    "                flRight=True\n",
    "            elif event.key==pygame.K_UP:\n",
    "                flUp=True\n",
    "            elif event.key==pygame.K_DOWN:\n",
    "                flDown=True\n",
    "        elif event.type==pygame.KEYUP:\n",
    "            if event.key in [pygame.K_LEFT,pygame.K_RIGHT,pygame.K_UP,pygame.K_DOWN]:\n",
    "                flLeft=flRight=flUp=flDown=False\n",
    "    if flLeft:\n",
    "        x-=speed\n",
    "    elif flRight:\n",
    "        x+=speed\n",
    "    elif flUp:\n",
    "        y-=speed\n",
    "    elif flDown:\n",
    "        y+=speed    \n",
    "            \n",
    "    sc.fill(WHITE)\n",
    "    pygame.draw.circle(sc, RED,(x,y),25)\n",
    "    pygame.display.update()\n",
    "    \n",
    "    clock.tick(FPS)"
   ]
  },
  {
   "cell_type": "code",
   "execution_count": 22,
   "id": "cbf8e26e",
   "metadata": {},
   "outputs": [
    {
     "ename": "SystemExit",
     "evalue": "",
     "output_type": "error",
     "traceback": [
      "An exception has occurred, use %tb to see the full traceback.\n",
      "\u001b[1;31mSystemExit\u001b[0m\n"
     ]
    }
   ],
   "source": [
    "# 2 red ball\n",
    "import pygame\n",
    "import sys\n",
    "pygame.init()\n",
    "\n",
    "W=800\n",
    "H=800\n",
    "\n",
    "sc=pygame.display.set_mode((W,H))\n",
    "pygame.display.set_caption('Red Circle')\n",
    "\n",
    "WHITE=(255,255,255)\n",
    "BLUE=(0,0,255)\n",
    "GREEN=(0,255,0)\n",
    "RED=(255,0,0)\n",
    "\n",
    "FPS=60\n",
    "clock=pygame.time.Clock()\n",
    "x=400\n",
    "y=400\n",
    "speed=20\n",
    "\n",
    "while 1:\n",
    "    for event in pygame.event.get():\n",
    "        if event.type==pygame.QUIT:\n",
    "            pygame.quit()\n",
    "            sys.exit()\n",
    "            \n",
    "    keys=pygame.key.get_pressed()\n",
    "    \n",
    "    if keys[pygame.K_LEFT]:\n",
    "        x-=speed\n",
    "    elif keys[pygame.K_RIGHT]:\n",
    "        x+=speed\n",
    "    elif keys[pygame.K_UP]:\n",
    "        y-=speed\n",
    "    elif keys[pygame.K_DOWN]:\n",
    "        y+=speed    \n",
    "           \n",
    "            \n",
    "    sc.fill(WHITE)\n",
    "    pygame.draw.circle(sc, RED,(x,y),25)\n",
    "    pygame.display.update()\n",
    "    \n",
    "    clock.tick(FPS)"
   ]
  },
  {
   "cell_type": "code",
   "execution_count": null,
   "id": "6ca3cb83",
   "metadata": {},
   "outputs": [],
   "source": []
  }
 ],
 "metadata": {
  "kernelspec": {
   "display_name": "Python 3 (ipykernel)",
   "language": "python",
   "name": "python3"
  },
  "language_info": {
   "codemirror_mode": {
    "name": "ipython",
    "version": 3
   },
   "file_extension": ".py",
   "mimetype": "text/x-python",
   "name": "python",
   "nbconvert_exporter": "python",
   "pygments_lexer": "ipython3",
   "version": "3.9.13"
  }
 },
 "nbformat": 4,
 "nbformat_minor": 5
}
