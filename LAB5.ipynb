{
 "cells": [
  {
   "cell_type": "markdown",
   "id": "5013e926",
   "metadata": {},
   "source": [
    "# REGEX"
   ]
  },
  {
   "cell_type": "markdown",
   "id": "53fd7a00",
   "metadata": {},
   "source": [
    "EXE1"
   ]
  },
  {
   "cell_type": "code",
   "execution_count": 5,
   "id": "9f01e620",
   "metadata": {},
   "outputs": [
    {
     "name": "stdout",
     "output_type": "stream",
     "text": [
      "Not matched!\n",
      "Not matched!\n",
      "Found a match!\n",
      "Found a match!\n",
      "Found a match!\n"
     ]
    }
   ],
   "source": [
    "import re\n",
    "def check_ab(x):\n",
    "    text = '^a(b*)$'\n",
    "    if re.search(text, x):\n",
    "                return 'Found a match!'\n",
    "    else:\n",
    "                return 'Not matched!'\n",
    "print(check_ab(\"ac\"))\n",
    "print(check_ab(\"abcb\"))\n",
    "print(check_ab(\"a\"))\n",
    "print(check_ab(\"ab\"))\n",
    "print(check_ab(\"abbbbb\"))"
   ]
  },
  {
   "cell_type": "markdown",
   "id": "b499f969",
   "metadata": {},
   "source": [
    "EXE2"
   ]
  },
  {
   "cell_type": "code",
   "execution_count": 11,
   "id": "42ee6873",
   "metadata": {},
   "outputs": [
    {
     "name": "stdout",
     "output_type": "stream",
     "text": [
      "Not matched!\n",
      "Found a match!\n",
      "Not matched!\n",
      "Found a match!\n",
      "Found a match!\n"
     ]
    }
   ],
   "source": [
    "import re\n",
    "def check_ab(x):\n",
    "    text = 'a(b{2,3})'\n",
    "    if re.search(text, x):\n",
    "                return 'Found a match!'\n",
    "    else:\n",
    "                return 'Not matched!'\n",
    "print(check_ab(\"ac\"))\n",
    "print(check_ab(\"abbb\"))\n",
    "print(check_ab(\"a\"))\n",
    "print(check_ab(\"abb\"))\n",
    "print(check_ab(\"abbbabb\"))"
   ]
  },
  {
   "cell_type": "markdown",
   "id": "8e64f051",
   "metadata": {},
   "source": [
    "EXE3"
   ]
  },
  {
   "cell_type": "code",
   "execution_count": 12,
   "id": "402717d3",
   "metadata": {},
   "outputs": [
    {
     "name": "stdout",
     "output_type": "stream",
     "text": [
      "Not matched!\n",
      "Found a match!\n",
      "Not matched!\n",
      "Not matched!\n",
      "Not matched!\n"
     ]
    }
   ],
   "source": [
    "import re\n",
    "def check_ab(x):\n",
    "    text = '^[a-z]+_[a-z]+$'\n",
    "    if re.search(text, x):\n",
    "                return 'Found a match!'\n",
    "    else:\n",
    "                return 'Not matched!'\n",
    "print(check_ab(\"ac\"))\n",
    "print(check_ab(\"abbb_bsns\"))\n",
    "print(check_ab(\"ahnxsh_Hbbb\"))\n",
    "print(check_ab(\"abb_jjKx\"))\n",
    "print(check_ab(\"abbbabb_HNSHS\"))"
   ]
  },
  {
   "cell_type": "markdown",
   "id": "8f85d56d",
   "metadata": {},
   "source": [
    "EXE4"
   ]
  },
  {
   "cell_type": "code",
   "execution_count": 16,
   "id": "326ffa06",
   "metadata": {},
   "outputs": [
    {
     "name": "stdout",
     "output_type": "stream",
     "text": [
      "Not matched!\n",
      "Not matched!\n",
      "Found a match!\n",
      "Not matched!\n",
      "Not matched!\n"
     ]
    }
   ],
   "source": [
    "import re\n",
    "def check_ab(x):\n",
    "    text = '^([A-Z]{1})+[a-z]+$'\n",
    "    if re.search(text, x):\n",
    "                return 'Found a match!'\n",
    "    else:\n",
    "                return 'Not matched!'\n",
    "print(check_ab(\"ac\"))\n",
    "print(check_ab(\"abbb_bsns\"))\n",
    "print(check_ab(\"AHbbb\"))\n",
    "print(check_ab(\"abb_jjKx\"))\n",
    "print(check_ab(\"abbbabb_HNSHS\"))"
   ]
  },
  {
   "cell_type": "markdown",
   "id": "33faab6b",
   "metadata": {},
   "source": [
    "EXE5"
   ]
  },
  {
   "cell_type": "code",
   "execution_count": 21,
   "id": "903cee41",
   "metadata": {},
   "outputs": [
    {
     "name": "stdout",
     "output_type": "stream",
     "text": [
      "Found a match!\n",
      "Found a match!\n",
      "Not matched!\n",
      "Not matched!\n",
      "Not matched!\n"
     ]
    }
   ],
   "source": [
    "import re\n",
    "def check_ab(x):\n",
    "    text = '^a.*b$'\n",
    "    if re.search(text, x):\n",
    "                return 'Found a match!'\n",
    "    else:\n",
    "                return 'Not matched!'\n",
    "print(check_ab(\"ab\"))\n",
    "print(check_ab(\"abbb_bsnsb\"))\n",
    "print(check_ab(\"AHbbb\"))\n",
    "print(check_ab(\"abb_jjKx\"))\n",
    "print(check_ab(\"abbbabb_HNSHS\"))"
   ]
  },
  {
   "cell_type": "markdown",
   "id": "6ec8afba",
   "metadata": {},
   "source": [
    "EXE6"
   ]
  },
  {
   "cell_type": "code",
   "execution_count": 22,
   "id": "463ebd09",
   "metadata": {},
   "outputs": [
    {
     "name": "stdout",
     "output_type": "stream",
     "text": [
      "i:love:coding:python:it:is:amazing:\n"
     ]
    }
   ],
   "source": [
    "import re\n",
    "text = 'i love coding python,it is amazing.'\n",
    "print(re.sub(\"[ ,.]\", \":\", text))"
   ]
  },
  {
   "cell_type": "markdown",
   "id": "a9b8958c",
   "metadata": {},
   "source": [
    "EXE7"
   ]
  },
  {
   "cell_type": "code",
   "execution_count": 25,
   "id": "dbdadf5a",
   "metadata": {},
   "outputs": [
    {
     "name": "stdout",
     "output_type": "stream",
     "text": [
      "MyHomework\n"
     ]
    }
   ],
   "source": [
    "import re\n",
    "def sn_to_cam(text):\n",
    "        return ''.join(x.capitalize() or '_' for x in text.split('_'))\n",
    "print(sn_to_cam('my_homework'))"
   ]
  },
  {
   "cell_type": "markdown",
   "id": "4dcc8ff1",
   "metadata": {},
   "source": [
    "EXE8"
   ]
  },
  {
   "cell_type": "code",
   "execution_count": 27,
   "id": "a490f5b3",
   "metadata": {},
   "outputs": [
    {
     "name": "stdout",
     "output_type": "stream",
     "text": [
      "['Good', 'Things', 'Come', 'After', 'Bad', 'Things']\n"
     ]
    }
   ],
   "source": [
    "import re\n",
    "text = \"GoodThingsComeAfterBadThings\"\n",
    "print(re.findall('[A-Z][^A-Z]*', text))"
   ]
  },
  {
   "cell_type": "markdown",
   "id": "ac753e91",
   "metadata": {},
   "source": [
    "EXE9"
   ]
  },
  {
   "cell_type": "code",
   "execution_count": 30,
   "id": "4d93cb4a",
   "metadata": {},
   "outputs": [
    {
     "name": "stdout",
     "output_type": "stream",
     "text": [
      "Better Late Than Never.\n"
     ]
    }
   ],
   "source": [
    "import re\n",
    "def cap_spa(text):\n",
    "  return re.sub(r\"(\\w)([A-Z])\", r\"\\1 \\2\",text)\n",
    "print(cap_spa(\"BetterLateThanNever.\"))"
   ]
  },
  {
   "cell_type": "markdown",
   "id": "99caefda",
   "metadata": {},
   "source": [
    "EXE10"
   ]
  },
  {
   "cell_type": "code",
   "execution_count": null,
   "id": "90d7cad0",
   "metadata": {},
   "outputs": [],
   "source": [
    "import re\n",
    "def cam_to_sn(text):\n",
    "        return ''.join(x.capitalize() or '_' for x in text.split('_'))\n",
    "print(cam_to_sn('MyHomework'))\n",
    "\n",
    "from re import sub\n",
    "def snake_case(s):\n",
    "  return '_'.join(\n",
    "    sub('([A-Z][a-z]+)', r' \\1',\n",
    "    sub('([A-Z]+)', r' \\1',\n",
    "    s.replace('-', ' '))).split()).lower()\n",
    "\n",
    "print(snake_case('JavaScript'))"
   ]
  },
  {
   "cell_type": "code",
   "execution_count": 33,
   "id": "4de6c169",
   "metadata": {},
   "outputs": [
    {
     "name": "stdout",
     "output_type": "stream",
     "text": [
      "java_script\n"
     ]
    }
   ],
   "source": [
    " from re import sub\n",
    "def cam_to_sn(text):\n",
    "  return '_'.join(\n",
    "    sub('([A-Z][a-z]+)', r' \\1',\n",
    "    sub('([A-Z]+)', r' \\1',\n",
    "    text.replace('-', ' '))).split()).lower()\n",
    "\n",
    "print(cam_to_sn('JavaS'))"
   ]
  },
  {
   "cell_type": "code",
   "execution_count": null,
   "id": "747c16cc",
   "metadata": {},
   "outputs": [],
   "source": []
  }
 ],
 "metadata": {
  "kernelspec": {
   "display_name": "Python 3 (ipykernel)",
   "language": "python",
   "name": "python3"
  },
  "language_info": {
   "codemirror_mode": {
    "name": "ipython",
    "version": 3
   },
   "file_extension": ".py",
   "mimetype": "text/x-python",
   "name": "python",
   "nbconvert_exporter": "python",
   "pygments_lexer": "ipython3",
   "version": "3.9.13"
  }
 },
 "nbformat": 4,
 "nbformat_minor": 5
}
