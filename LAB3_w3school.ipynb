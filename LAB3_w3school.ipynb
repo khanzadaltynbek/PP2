{
 "cells": [
  {
   "cell_type": "raw",
   "id": "6cbc664c-05ce-4022-a07b-d75bcaf7266f",
   "metadata": {},
   "source": [
    "Functions"
   ]
  },
  {
   "cell_type": "markdown",
   "id": "64b20224-dbb5-4b90-8c96-348cb957ed6e",
   "metadata": {},
   "source": [
    "exe1"
   ]
  },
  {
   "cell_type": "code",
   "execution_count": 3,
   "id": "86d0892c-93cb-4a7e-bc86-9db33a7e6143",
   "metadata": {},
   "outputs": [],
   "source": [
    "def my_function():\n",
    "    print(\"Hello from a function\")\n",
    "#creating a function"
   ]
  },
  {
   "cell_type": "markdown",
   "id": "3c87ea4e-9ab7-44bc-8c4f-cf2b2246d2ff",
   "metadata": {},
   "source": [
    "exe2"
   ]
  },
  {
   "cell_type": "code",
   "execution_count": 5,
   "id": "7512a139-37b1-4da6-bd3b-be8e32f24227",
   "metadata": {},
   "outputs": [
    {
     "name": "stdout",
     "output_type": "stream",
     "text": [
      "Hello from a function\n"
     ]
    }
   ],
   "source": [
    "def my_function():\n",
    "  print(\"Hello from a function\")\n",
    "my_function()\n",
    "#executing a function"
   ]
  },
  {
   "cell_type": "markdown",
   "id": "d1d5e5c5-e743-4a33-85ec-61cab778543c",
   "metadata": {},
   "source": [
    "exe3"
   ]
  },
  {
   "cell_type": "code",
   "execution_count": 9,
   "id": "3200573e-26b2-4e5c-93bc-b6fc3ee9ddf1",
   "metadata": {},
   "outputs": [],
   "source": [
    "def my_function(fname, lname):\n",
    "  print(fname)"
   ]
  },
  {
   "cell_type": "markdown",
   "id": "eb2f95d5-711d-4bf0-948b-ec43a6056477",
   "metadata": {},
   "source": [
    "exe4"
   ]
  },
  {
   "cell_type": "code",
   "execution_count": 10,
   "id": "af5a8b7f-3d7f-4703-89ba-603568617385",
   "metadata": {},
   "outputs": [],
   "source": [
    "def my_function(x):\n",
    "    return x+5"
   ]
  },
  {
   "cell_type": "markdown",
   "id": "4b09e674-b42f-47db-9c1d-7d3a48d821b0",
   "metadata": {},
   "source": [
    "exe5"
   ]
  },
  {
   "cell_type": "code",
   "execution_count": 11,
   "id": "998fa993-11da-4933-a185-3a4513200dd6",
   "metadata": {},
   "outputs": [],
   "source": [
    "def my_function(*kids):\n",
    "  print(\"The youngest child is \" + kids[2])"
   ]
  },
  {
   "cell_type": "markdown",
   "id": "bed2de4c-db65-4acb-a866-63301f26b708",
   "metadata": {},
   "source": [
    "exe6"
   ]
  },
  {
   "cell_type": "code",
   "execution_count": 12,
   "id": "aeff0446-a1f8-437e-bcb0-3015872702d9",
   "metadata": {},
   "outputs": [],
   "source": [
    "def my_function(**kid):\n",
    "  print(\"His last name is \" + kid[\"lname\"])"
   ]
  },
  {
   "cell_type": "raw",
   "id": "75288aeb-7b8e-44d2-8243-937396cc2971",
   "metadata": {},
   "source": [
    "Lambda"
   ]
  },
  {
   "cell_type": "markdown",
   "id": "47c4f5f4-e2b7-45c5-85b3-b960444de321",
   "metadata": {},
   "source": [
    "exe1"
   ]
  },
  {
   "cell_type": "code",
   "execution_count": 13,
   "id": "61eec8a7-4116-49f4-b8ef-df3df3f1cd93",
   "metadata": {},
   "outputs": [],
   "source": [
    "x=lambda a:a"
   ]
  },
  {
   "cell_type": "raw",
   "id": "c3f5bade-3116-4bc7-9e1e-39967d381283",
   "metadata": {},
   "source": [
    "Classes"
   ]
  },
  {
   "cell_type": "markdown",
   "id": "2e9c4a10-38cd-4d48-936a-d8abf6bacfc0",
   "metadata": {},
   "source": [
    "exe1"
   ]
  },
  {
   "cell_type": "code",
   "execution_count": 15,
   "id": "ec3b7c0f-6468-46da-9739-6572adf764d5",
   "metadata": {},
   "outputs": [],
   "source": [
    "class MyClass:\n",
    "  x = 5"
   ]
  },
  {
   "cell_type": "markdown",
   "id": "719beaa7-bc6e-46a8-8880-c54d3742fb3c",
   "metadata": {},
   "source": [
    "exe2"
   ]
  },
  {
   "cell_type": "code",
   "execution_count": 16,
   "id": "db8d66c4-5098-40af-bf0a-fff088f6a6cc",
   "metadata": {},
   "outputs": [],
   "source": [
    "class MyClass:\n",
    "  x = 5\n",
    "p1= MyClass()"
   ]
  },
  {
   "cell_type": "markdown",
   "id": "b5b2bbad-0f61-422e-8658-c6211d0b900d",
   "metadata": {},
   "source": [
    "exe3"
   ]
  },
  {
   "cell_type": "code",
   "execution_count": 17,
   "id": "92ff3ee0-2bf0-4168-bbb8-92e49d783060",
   "metadata": {},
   "outputs": [
    {
     "name": "stdout",
     "output_type": "stream",
     "text": [
      "5\n"
     ]
    }
   ],
   "source": [
    "class MyClass:\n",
    "  x = 5\n",
    "p1 = MyClass()\n",
    "print(p1.x)"
   ]
  },
  {
   "cell_type": "markdown",
   "id": "99a73f5b-cc1d-4ace-b266-659ef7b153f6",
   "metadata": {},
   "source": [
    "exe4"
   ]
  },
  {
   "cell_type": "code",
   "execution_count": 18,
   "id": "f847a733-34c9-4092-90f4-83d2f9f551ac",
   "metadata": {},
   "outputs": [],
   "source": [
    "class Person:\n",
    "  def __init__(self, name, age):\n",
    "    self.name = name\n",
    "    self.age = age"
   ]
  },
  {
   "cell_type": "raw",
   "id": "37b9ffb2-b340-4b42-be1e-ea5b7a525b97",
   "metadata": {},
   "source": [
    "Inheritance"
   ]
  },
  {
   "cell_type": "markdown",
   "id": "836b0532-82d6-4b75-8ab2-d7934efc964d",
   "metadata": {},
   "source": [
    "exe1"
   ]
  },
  {
   "cell_type": "code",
   "execution_count": 19,
   "id": "c49e8b4d-9af0-47fa-a9a5-7f3042b49f71",
   "metadata": {},
   "outputs": [
    {
     "ename": "IndentationError",
     "evalue": "expected an indented block (1837653384.py, line 1)",
     "output_type": "error",
     "traceback": [
      "\u001b[1;36m  File \u001b[1;32m\"C:\\Users\\altyn\\AppData\\Local\\Temp\\ipykernel_24208\\1837653384.py\"\u001b[1;36m, line \u001b[1;32m1\u001b[0m\n\u001b[1;33m    class Student(Person):\u001b[0m\n\u001b[1;37m                          ^\u001b[0m\n\u001b[1;31mIndentationError\u001b[0m\u001b[1;31m:\u001b[0m expected an indented block\n"
     ]
    }
   ],
   "source": [
    "class Student(Person):"
   ]
  },
  {
   "cell_type": "markdown",
   "id": "36cce26c-207a-43a6-807a-3dc3bed58778",
   "metadata": {},
   "source": [
    "exe2"
   ]
  },
  {
   "cell_type": "code",
   "execution_count": 20,
   "id": "cd2757a4-94b5-4983-9855-e5d1042ad2d0",
   "metadata": {},
   "outputs": [
    {
     "name": "stdout",
     "output_type": "stream",
     "text": [
      "Mike\n"
     ]
    }
   ],
   "source": [
    "class Person:\n",
    "  def __init__(self, fname):\n",
    "    self.firstname = fname\n",
    "\n",
    "  def printname(self):\n",
    "    print(self.firstname)\n",
    "\n",
    "class Student(Person):\n",
    "  pass\n",
    "\n",
    "x = Student(\"Mike\")\n",
    "x.printname()"
   ]
  },
  {
   "cell_type": "code",
   "execution_count": null,
   "id": "f35e8fbe-fd25-4777-b292-4aed6f17332c",
   "metadata": {},
   "outputs": [],
   "source": []
  }
 ],
 "metadata": {
  "kernelspec": {
   "display_name": "Python 3 (ipykernel)",
   "language": "python",
   "name": "python3"
  },
  "language_info": {
   "codemirror_mode": {
    "name": "ipython",
    "version": 3
   },
   "file_extension": ".py",
   "mimetype": "text/x-python",
   "name": "python",
   "nbconvert_exporter": "python",
   "pygments_lexer": "ipython3",
   "version": "3.9.13"
  }
 },
 "nbformat": 4,
 "nbformat_minor": 5
}
