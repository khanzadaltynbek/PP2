{
 "cells": [
  {
   "cell_type": "markdown",
   "id": "f8927099",
   "metadata": {},
   "source": [
    "BUILDIN_FUNC"
   ]
  },
  {
   "cell_type": "markdown",
   "id": "ae0044df",
   "metadata": {},
   "source": [
    "EXE1"
   ]
  },
  {
   "cell_type": "code",
   "execution_count": 6,
   "id": "a3d11d3c",
   "metadata": {},
   "outputs": [
    {
     "name": "stdout",
     "output_type": "stream",
     "text": [
      "2 3 4 5\n",
      "120\n"
     ]
    }
   ],
   "source": [
    "#Write a Python program with builtin function to multiply all the numbers in a list\n",
    "from math import *\n",
    "l=list(map(int,input().split()))\n",
    "print(prod(l))"
   ]
  },
  {
   "cell_type": "code",
   "execution_count": 3,
   "id": "60d849e6",
   "metadata": {},
   "outputs": [
    {
     "name": "stdout",
     "output_type": "stream",
     "text": [
      "120\n"
     ]
    }
   ],
   "source": [
    "import math\n",
    "arr=[2,3,4,5]\n",
    "product=math.prod(arr)\n",
    "print(product)"
   ]
  },
  {
   "cell_type": "markdown",
   "id": "610cf9ef",
   "metadata": {},
   "source": [
    "EXE2"
   ]
  },
  {
   "cell_type": "code",
   "execution_count": 2,
   "id": "e5d52bb6",
   "metadata": {},
   "outputs": [
    {
     "name": "stdout",
     "output_type": "stream",
     "text": [
      "Altynbek KHANzada\n",
      "lower 11\n",
      "upper 5\n"
     ]
    }
   ],
   "source": [
    "#Write a Python program with builtin function that accepts a string and calculate the number of upper case letters and lower case letters\n",
    "s=input()\n",
    "l=sum([1 for i in s if i.islower()])\n",
    "u=sum([1 for j in s if j.isupper()])\n",
    "print(\"lower\",l)\n",
    "print(\"upper\",u)"
   ]
  },
  {
   "cell_type": "markdown",
   "id": "df19052f",
   "metadata": {},
   "source": [
    "EXE3"
   ]
  },
  {
   "cell_type": "code",
   "execution_count": 3,
   "id": "ef531b60",
   "metadata": {},
   "outputs": [
    {
     "name": "stdout",
     "output_type": "stream",
     "text": [
      "python\n",
      "not pali\n"
     ]
    }
   ],
   "source": [
    "#Write a Python program with builtin function that checks whether a passed string is palindrome or not.\n",
    "s=input()\n",
    "p=\"\".join(reversed(s))\n",
    "print(\"palindrome\") if s==p else print(\"not pali\")"
   ]
  },
  {
   "cell_type": "markdown",
   "id": "aabeeb09",
   "metadata": {},
   "source": [
    "EXE4"
   ]
  },
  {
   "cell_type": "code",
   "execution_count": 9,
   "id": "68c641fb",
   "metadata": {},
   "outputs": [
    {
     "name": "stdout",
     "output_type": "stream",
     "text": [
      "21500\n",
      "5000\n",
      "Square root of 21500 after 5000 miliseconds is 146.6287829861518\n"
     ]
    }
   ],
   "source": [
    "#Write a Python program that invoke square root function after specific milliseconds.\n",
    "import time\n",
    "import math\n",
    "n=int(input())\n",
    "m=int(input())\n",
    "time.sleep(m*0.001)\n",
    "sq=sqrt(n)\n",
    "print(\"Square root of\",n,\"after\",m,\"miliseconds is\",sq)"
   ]
  },
  {
   "cell_type": "markdown",
   "id": "27395b0a",
   "metadata": {},
   "source": [
    "EXE5"
   ]
  },
  {
   "cell_type": "code",
   "execution_count": 13,
   "id": "df1e163f",
   "metadata": {},
   "outputs": [
    {
     "name": "stdout",
     "output_type": "stream",
     "text": [
      "2 3 0\n",
      "False\n"
     ]
    }
   ],
   "source": [
    "#Write a Python program with builtin function that returns True if all elements of the tuple are true.\n",
    "t=tuple(map(int,input().split()))\n",
    "print(all(t))"
   ]
  },
  {
   "cell_type": "code",
   "execution_count": null,
   "id": "34a7798e",
   "metadata": {},
   "outputs": [],
   "source": []
  },
  {
   "cell_type": "markdown",
   "id": "9aaae18b",
   "metadata": {},
   "source": [
    "# DIR_FILES"
   ]
  },
  {
   "cell_type": "markdown",
   "id": "0e00845c",
   "metadata": {},
   "source": [
    "EXE1"
   ]
  },
  {
   "cell_type": "code",
   "execution_count": 18,
   "id": "166b1b44",
   "metadata": {},
   "outputs": [
    {
     "name": "stdout",
     "output_type": "stream",
     "text": [
      "C:\\Users\\altyn\\OneDrive\\Рабочий стол\\labs\\lab1\n",
      "Directories: ['.vscode']\n",
      "Files: ['a-1.cpp', 'a.exe', 'b-1.cpp', 'c-1.cpp', 'd-1.cpp', 'first-1.cpp', 'first-1.exe', 'first-2.cpp', 'first-2.exe', 'first-3.cpp', 'first-3.exe', 'first-4.cpp', 'first-4.exe']\n",
      "All directories and files: ['.vscode', 'a-1.cpp', 'a.exe', 'b-1.cpp', 'c-1.cpp', 'd-1.cpp', 'first-1.cpp', 'first-1.exe', 'first-2.cpp', 'first-2.exe', 'first-3.cpp', 'first-3.exe', 'first-4.cpp', 'first-4.exe']\n"
     ]
    }
   ],
   "source": [
    "#Write a Python program to list only directories, files and all directories, files in a specified path.\n",
    "import os\n",
    "\n",
    "path = input()\n",
    "\n",
    "print(\"Directories:\", [i for i in os.listdir(path) if os.path.isdir(os.path.join(path, i))])\n",
    "\n",
    "print(\"Files:\", [i for i in os.listdir(path) if os.path.isfile(os.path.join(path, i))])\n",
    "\n",
    "print(\"All directories and files:\", [i for i in os.listdir(path)])\n"
   ]
  },
  {
   "cell_type": "code",
   "execution_count": 17,
   "id": "2c5aebbf",
   "metadata": {},
   "outputs": [
    {
     "name": "stdout",
     "output_type": "stream",
     "text": [
      ".vscode\n",
      "a-1.cpp\n",
      "a.exe\n",
      "b-1.cpp\n",
      "c-1.cpp\n",
      "d-1.cpp\n",
      "first-1.cpp\n",
      "first-1.exe\n",
      "first-2.cpp\n",
      "first-2.exe\n",
      "first-3.cpp\n",
      "first-3.exe\n",
      "first-4.cpp\n",
      "first-4.exe\n"
     ]
    }
   ],
   "source": [
    "#1\n",
    "import os\n",
    "path = r\"C:\\Users\\altyn\\OneDrive\\Рабочий стол\\labs\\lab1\"\n",
    "for i in os.listdir(path):\n",
    "    print(i)"
   ]
  },
  {
   "cell_type": "markdown",
   "id": "4b54b09d",
   "metadata": {},
   "source": [
    "EXE2"
   ]
  },
  {
   "cell_type": "code",
   "execution_count": 19,
   "id": "01ce3d4d",
   "metadata": {},
   "outputs": [
    {
     "name": "stdout",
     "output_type": "stream",
     "text": [
      "C:\\Users\\altyn\\OneDrive\\Рабочий стол\\labs\\lab1\n",
      "Exist: True\n",
      "Readable: True\n",
      "Writable: True\n",
      "Executable: True\n"
     ]
    }
   ],
   "source": [
    "#Write a Python program to check for access to a specified path. Test the existence, readability, writability and executability of the specified path\n",
    "import os\n",
    "a = input()\n",
    "\n",
    "print('Exist:', os.access(a, os.F_OK))\n",
    "print('Readable:', os.access(a, os.R_OK))\n",
    "print('Writable:', os.access(a, os.W_OK))\n",
    "print('Executable:', os.access(a, os.X_OK))"
   ]
  },
  {
   "cell_type": "markdown",
   "id": "40db2523",
   "metadata": {},
   "source": [
    "EXE3"
   ]
  },
  {
   "cell_type": "code",
   "execution_count": 20,
   "id": "5962edbf",
   "metadata": {},
   "outputs": [
    {
     "name": "stdout",
     "output_type": "stream",
     "text": [
      "Test a path exists or not:\n",
      "True\n",
      "True\n",
      "\n",
      "File name of the path:\n",
      "lab1\n",
      "\n",
      "Dir name of the path:\n",
      "C:\\Users\\altyn\\OneDrive\\Рабочий стол\\labs\n"
     ]
    }
   ],
   "source": [
    "#Write a Python program to test whether a given path exists or not. If the path exist find the filename and directory portion of the given path.\n",
    "import os\n",
    "print(\"Test a path exists or not:\")\n",
    "path = r'C:\\Users\\altyn\\OneDrive\\Рабочий стол\\labs\\lab1'\n",
    "print(os.path.exists(path))\n",
    "path = r'C:\\Users\\altyn\\OneDrive\\Рабочий стол\\labs\\lab1'\n",
    "print(os.path.exists(path))\n",
    "print(\"\\nFile name of the path:\")\n",
    "print(os.path.basename(path))\n",
    "print(\"\\nDir name of the path:\")\n",
    "print(os.path.dirname(path))\n"
   ]
  },
  {
   "cell_type": "markdown",
   "id": "988ad032",
   "metadata": {},
   "source": [
    "EXE4"
   ]
  },
  {
   "cell_type": "code",
   "execution_count": 29,
   "id": "df5840be",
   "metadata": {},
   "outputs": [
    {
     "name": "stdout",
     "output_type": "stream",
     "text": [
      "4\n"
     ]
    }
   ],
   "source": [
    "#Write a Python program to count the number of lines in a text file.\n",
    "print(sum([1 for i in open(\"untitled1.txt\")]))"
   ]
  },
  {
   "cell_type": "markdown",
   "id": "fffb60c5",
   "metadata": {},
   "source": [
    "EXE5"
   ]
  },
  {
   "cell_type": "code",
   "execution_count": 30,
   "id": "f84bf7b8",
   "metadata": {},
   "outputs": [
    {
     "name": "stdout",
     "output_type": "stream",
     "text": [
      "Red\n",
      "Green\n",
      "White\n",
      "Black\n",
      "Pink\n",
      "\n"
     ]
    }
   ],
   "source": [
    "#Write a Python program to write a list to a file.\n",
    "color = ['Red', 'Green', 'White', 'Black', 'Pink']\n",
    "with open('abc.txt', \"w\") as myfile:\n",
    "        for c in color:\n",
    "                myfile.write(\"%s\\n\" % c)\n",
    "\n",
    "content = open('abc.txt')\n",
    "print(content.read())"
   ]
  },
  {
   "cell_type": "markdown",
   "id": "6d6c5998",
   "metadata": {},
   "source": [
    "EXE6"
   ]
  },
  {
   "cell_type": "code",
   "execution_count": null,
   "id": "4ae1eb19",
   "metadata": {},
   "outputs": [],
   "source": [
    "#Write a Python program to generate 26 text files named A.txt, B.txt, and so on up to Z.txt\n",
    "import string, os\n",
    "if not os.path.exists(\"letters\"):\n",
    "   os.makedirs(\"letters\")\n",
    "for letter in string.ascii_uppercase:\n",
    "   with open(letter + \".txt\", \"w\") as f:\n",
    "       f.writelines(letter)"
   ]
  },
  {
   "cell_type": "markdown",
   "id": "bab21754",
   "metadata": {},
   "source": [
    "EXE7"
   ]
  },
  {
   "cell_type": "code",
   "execution_count": null,
   "id": "42eb91f6",
   "metadata": {},
   "outputs": [],
   "source": [
    "#Write a Python program to copy the contents of a file to another file\n",
    "with open('first.txt','r') as firstfile, open('second.txt','a') as secondfile:\n",
    "    for line in firstfile:\n",
    "             secondfile.write(line)"
   ]
  },
  {
   "cell_type": "markdown",
   "id": "71f8577f",
   "metadata": {},
   "source": [
    "EXE8"
   ]
  },
  {
   "cell_type": "code",
   "execution_count": null,
   "id": "27c1dedf",
   "metadata": {},
   "outputs": [],
   "source": [
    "#Write a Python program to delete file by specified path. Before deleting check for access and whether a given path exists or not.\n",
    "import os\n",
    "path=input()\n",
    "if os.path.exists(path):\n",
    "    os.remove(path)"
   ]
  },
  {
   "cell_type": "code",
   "execution_count": null,
   "id": "83666f49",
   "metadata": {},
   "outputs": [],
   "source": []
  }
 ],
 "metadata": {
  "kernelspec": {
   "display_name": "Python 3 (ipykernel)",
   "language": "python",
   "name": "python3"
  },
  "language_info": {
   "codemirror_mode": {
    "name": "ipython",
    "version": 3
   },
   "file_extension": ".py",
   "mimetype": "text/x-python",
   "name": "python",
   "nbconvert_exporter": "python",
   "pygments_lexer": "ipython3",
   "version": "3.9.13"
  }
 },
 "nbformat": 4,
 "nbformat_minor": 5
}
