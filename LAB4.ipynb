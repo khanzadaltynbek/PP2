{
 "cells": [
  {
   "cell_type": "raw",
   "id": "1e27264d-0f72-40a0-8c7c-fbd54b1c6cb3",
   "metadata": {},
   "source": [
    "DATE"
   ]
  },
  {
   "cell_type": "markdown",
   "id": "ac7a8032-6afe-4d5c-b55b-40232d31169b",
   "metadata": {},
   "source": [
    "EXE1"
   ]
  },
  {
   "cell_type": "code",
   "execution_count": 7,
   "id": "40f30815-8468-4ecd-8cb1-e0cd8efb204e",
   "metadata": {},
   "outputs": [
    {
     "name": "stdout",
     "output_type": "stream",
     "text": [
      "Today: 2023-02-21\n",
      "5 days before today: 2023-02-16\n"
     ]
    }
   ],
   "source": [
    "from datetime import date, timedelta\n",
    "day_before = date.today() - timedelta(5)\n",
    "print('Today:',date.today())\n",
    "print('5 days before today:',day_before)"
   ]
  },
  {
   "cell_type": "markdown",
   "id": "2e7ee463-70c4-44d5-9273-28e77a13d22f",
   "metadata": {},
   "source": [
    "EXE2"
   ]
  },
  {
   "cell_type": "code",
   "execution_count": 8,
   "id": "5c8accb5-1b79-487c-9678-79b2cb2738ef",
   "metadata": {},
   "outputs": [
    {
     "name": "stdout",
     "output_type": "stream",
     "text": [
      "yesterday date:  2023-02-20\n",
      "today date:  2023-02-21\n",
      "yesterday date:  2023-02-22\n"
     ]
    }
   ],
   "source": [
    "from datetime import date, timedelta\n",
    "yesterday = date.today()-timedelta(1)\n",
    "tomorrow = date.today()+timedelta(1)\n",
    "print(\"yesterday date: \",yesterday)\n",
    "print(\"today date: \",date.today())\n",
    "print(\"yesterday date: \",tomorrow)"
   ]
  },
  {
   "cell_type": "markdown",
   "id": "ef9cc203-4b7c-4fd7-afdd-561b7fc5f0da",
   "metadata": {},
   "source": [
    "EXE3"
   ]
  },
  {
   "cell_type": "code",
   "execution_count": 25,
   "id": "c860447a-2fb4-484c-b3ca-82294110d876",
   "metadata": {},
   "outputs": [
    {
     "name": "stdout",
     "output_type": "stream",
     "text": [
      "2023-02-21 18:57:26\n"
     ]
    }
   ],
   "source": [
    "import datetime \n",
    "find_microsec = datetime.datetime.today().replace(microsecond=0)\n",
    "print(find_microsec)"
   ]
  },
  {
   "cell_type": "code",
   "execution_count": 24,
   "id": "8351cee3-90e3-4a4e-8861-0b93acd63d33",
   "metadata": {},
   "outputs": [
    {
     "name": "stdout",
     "output_type": "stream",
     "text": [
      "2023-02-21 18:57:24.303746\n",
      "2023-02-21 18:57:24.303746\n",
      "2023-02-21 18:57:24\n"
     ]
    }
   ],
   "source": [
    "import datetime as ddd\n",
    "now=ddd.datetime.now()\n",
    "print(now)\n",
    "print(now)\n",
    "delta=ddd.timedelta(microseconds=now.microsecond)\n",
    "now-=delta\n",
    "print(now)"
   ]
  },
  {
   "cell_type": "markdown",
   "id": "005ad321-dafc-4c2b-9621-1962cf6f403e",
   "metadata": {},
   "source": [
    "EXE4"
   ]
  },
  {
   "cell_type": "code",
   "execution_count": 34,
   "id": "6443c939-fbbe-483b-b0e4-0cb6d8395c75",
   "metadata": {},
   "outputs": [
    {
     "data": {
      "text/plain": [
       "345600.0"
      ]
     },
     "execution_count": 34,
     "metadata": {},
     "output_type": "execute_result"
    }
   ],
   "source": [
    "import datetime as datee\n",
    "\n",
    "a = datee.datetime(2023,2,21,23,59,59)\n",
    "b = datee.datetime(2023,2,25,23,59,59)\n",
    "\n",
    "(b-a).total_seconds()"
   ]
  },
  {
   "cell_type": "raw",
   "id": "44911a65-9869-4c43-9912-a7038e152599",
   "metadata": {},
   "source": [
    "ITERATORS AND GENERATORS"
   ]
  },
  {
   "cell_type": "markdown",
   "id": "904871a7-a177-40b4-9f18-fce2bdf10f51",
   "metadata": {},
   "source": [
    "EXE1"
   ]
  },
  {
   "cell_type": "code",
   "execution_count": 40,
   "id": "65ea4c37-16f5-4260-a1e5-4bc010ac1416",
   "metadata": {},
   "outputs": [
    {
     "name": "stdout",
     "output_type": "stream",
     "text": [
      "0\n",
      "1\n",
      "4\n",
      "9\n",
      "16\n",
      "25\n",
      "36\n",
      "49\n",
      "64\n",
      "81\n"
     ]
    }
   ],
   "source": [
    "def gensquares(N):\n",
    "    for i in range(N):\n",
    "        yield i**2\n",
    "for x in gensquares(10):\n",
    "    print(x)"
   ]
  },
  {
   "cell_type": "markdown",
   "id": "90283fb7-2a0d-4b71-a1ee-08dc42c948e9",
   "metadata": {},
   "source": [
    "EXE2"
   ]
  },
  {
   "cell_type": "code",
   "execution_count": 53,
   "id": "ae225f56-e9eb-4e25-a8de-d486e520e4a8",
   "metadata": {},
   "outputs": [
    {
     "name": "stdin",
     "output_type": "stream",
     "text": [
      " 10\n"
     ]
    },
    {
     "name": "stdout",
     "output_type": "stream",
     "text": [
      "0,2,4,6,8\n"
     ]
    }
   ],
   "source": [
    "def f(n):\n",
    "    i=0\n",
    "    while i<n:\n",
    "        if i%2==0:\n",
    "            yield i\n",
    "        i+=1\n",
    "n=int(input())\n",
    "l=[]\n",
    "for i in f(n):\n",
    "    l.append(str(i))\n",
    "print (\",\".join(l))"
   ]
  },
  {
   "cell_type": "markdown",
   "id": "d7452a99-3e62-4947-b995-ecba57fc9e2e",
   "metadata": {},
   "source": [
    "EXE3"
   ]
  },
  {
   "cell_type": "code",
   "execution_count": 58,
   "id": "3122f31c-a35f-4b1a-a75c-701f19534ccb",
   "metadata": {},
   "outputs": [
    {
     "name": "stdout",
     "output_type": "stream",
     "text": [
      "0\n",
      "12\n",
      "24\n",
      "36\n",
      "48\n"
     ]
    }
   ],
   "source": [
    "def div_num(N):\n",
    "    for i in range(N):\n",
    "        if i%4==0 and i%3==0:\n",
    "            yield i\n",
    "for x in div_num(50):\n",
    "    print(x)"
   ]
  },
  {
   "cell_type": "markdown",
   "id": "6243387b-6455-4c03-8dbe-5171fbcc4f40",
   "metadata": {},
   "source": [
    "EXE4"
   ]
  },
  {
   "cell_type": "code",
   "execution_count": 63,
   "id": "f7247b25-777c-464d-b800-f5d716d557c1",
   "metadata": {},
   "outputs": [
    {
     "name": "stdout",
     "output_type": "stream",
     "text": [
      "25\n",
      "36\n",
      "49\n",
      "64\n",
      "81\n"
     ]
    }
   ],
   "source": [
    "def squares(a,b):\n",
    "    for i in range (a,b):\n",
    "        yield i**2\n",
    "for x in squares(5,10):\n",
    "    print(x)"
   ]
  },
  {
   "cell_type": "markdown",
   "id": "e2b7d377-0eb0-45e0-9d77-fd6eb3246d5e",
   "metadata": {},
   "source": [
    "EXE5"
   ]
  },
  {
   "cell_type": "code",
   "execution_count": 62,
   "id": "f3f65fd8-6c99-4d9c-91d8-a23ef5343925",
   "metadata": {},
   "outputs": [
    {
     "name": "stdout",
     "output_type": "stream",
     "text": [
      "10\n",
      "9\n",
      "8\n",
      "7\n",
      "6\n",
      "5\n",
      "4\n",
      "3\n",
      "2\n",
      "1\n",
      "0\n"
     ]
    }
   ],
   "source": [
    "def reverse_num(N):\n",
    "    for i in range (N, -1, -1):\n",
    "        yield i\n",
    "for x in reverse_num(10):\n",
    "    print(x)"
   ]
  },
  {
   "cell_type": "raw",
   "id": "a488c8c4-261d-4caa-9635-2497946d78a2",
   "metadata": {},
   "source": [
    "MATH"
   ]
  },
  {
   "cell_type": "markdown",
   "id": "962dec53-a6ad-4bcd-87db-4985de359027",
   "metadata": {},
   "source": [
    "EXE1"
   ]
  },
  {
   "cell_type": "code",
   "execution_count": 67,
   "id": "de6c2010-62fe-4a62-9534-9294582cb97a",
   "metadata": {},
   "outputs": [
    {
     "name": "stdin",
     "output_type": "stream",
     "text": [
      " 15\n"
     ]
    },
    {
     "name": "stdout",
     "output_type": "stream",
     "text": [
      "0.2617993877991494\n"
     ]
    }
   ],
   "source": [
    "import math\n",
    "def degree_radian(degr):\n",
    "    rad=(math.pi*degr)/180\n",
    "    print(rad)\n",
    "num=int(input())\n",
    "degree_radian(num)"
   ]
  },
  {
   "cell_type": "markdown",
   "id": "9325709e-2dd3-410e-8bb9-880ba0be482b",
   "metadata": {},
   "source": [
    "EXE2"
   ]
  },
  {
   "cell_type": "code",
   "execution_count": 71,
   "id": "435c7ac8-57b5-4aee-8919-f3813a3125e3",
   "metadata": {},
   "outputs": [
    {
     "name": "stdin",
     "output_type": "stream",
     "text": [
      " 5\n",
      " 5\n",
      " 6\n"
     ]
    },
    {
     "name": "stdout",
     "output_type": "stream",
     "text": [
      "27.5\n"
     ]
    }
   ],
   "source": [
    "import math\n",
    "def area_trapezoid(h,a,b):\n",
    "    area_t=h*((a+b)/2)\n",
    "    print(area_t)\n",
    "num1=int(input())\n",
    "num2=int(input())\n",
    "num3=int(input())\n",
    "area_trapezoid(num1,num2,num3)"
   ]
  },
  {
   "cell_type": "markdown",
   "id": "6da7ac42-87c1-4951-b10a-58de1d0578fa",
   "metadata": {},
   "source": [
    "EXE3"
   ]
  },
  {
   "cell_type": "code",
   "execution_count": 74,
   "id": "1e99c65b-b94d-48a8-ac33-be0655f9d29f",
   "metadata": {},
   "outputs": [
    {
     "name": "stdin",
     "output_type": "stream",
     "text": [
      " 4\n",
      " 25\n"
     ]
    },
    {
     "name": "stdout",
     "output_type": "stream",
     "text": [
      "625.0000000000001\n"
     ]
    }
   ],
   "source": [
    "from math import tan,pi\n",
    "def area_polygon(n,l):\n",
    "    area_p=n*((l**2)/(4*tan(pi/n)))\n",
    "    print(area_p)\n",
    "num1=int(input())\n",
    "num2=int(input())\n",
    "area_polygon(num1,num2)"
   ]
  },
  {
   "cell_type": "markdown",
   "id": "c1546c56-b9b7-4b24-ba1d-a54c3312414f",
   "metadata": {},
   "source": [
    "EXE4"
   ]
  },
  {
   "cell_type": "code",
   "execution_count": 75,
   "id": "d967fda4-68cf-4c49-b61c-c9b4c155cad1",
   "metadata": {},
   "outputs": [
    {
     "name": "stdin",
     "output_type": "stream",
     "text": [
      " 5\n",
      " 6\n"
     ]
    },
    {
     "name": "stdout",
     "output_type": "stream",
     "text": [
      "30\n"
     ]
    }
   ],
   "source": [
    "def area_parall(a,h):\n",
    "    area_p=a*h\n",
    "    print(area_p)\n",
    "num1=int(input())\n",
    "num2=int(input())\n",
    "area_parall(num1,num2)"
   ]
  },
  {
   "cell_type": "raw",
   "id": "fce20ab5-672d-4178-9730-b0253dc14076",
   "metadata": {},
   "source": [
    "JSON"
   ]
  },
  {
   "cell_type": "markdown",
   "id": "c4b9d461-bc36-4839-9caf-29011b6987f1",
   "metadata": {},
   "source": [
    "EXE1"
   ]
  },
  {
   "cell_type": "code",
   "execution_count": 77,
   "id": "a9e6abfd-b997-4c68-bfba-4a717dc1f367",
   "metadata": {},
   "outputs": [
    {
     "ename": "FileNotFoundError",
     "evalue": "[Errno 2] No such file or directory: 'exer1-interface-data.json'",
     "output_type": "error",
     "traceback": [
      "\u001b[1;31m---------------------------------------------------------------------------\u001b[0m",
      "\u001b[1;31mFileNotFoundError\u001b[0m                         Traceback (most recent call last)",
      "\u001b[1;32m~\\AppData\\Local\\Temp\\ipykernel_83668\\3848907870.py\u001b[0m in \u001b[0;36m<module>\u001b[1;34m\u001b[0m\n\u001b[0;32m      1\u001b[0m \u001b[1;32mimport\u001b[0m \u001b[0mjson\u001b[0m\u001b[1;33m\u001b[0m\u001b[1;33m\u001b[0m\u001b[0m\n\u001b[0;32m      2\u001b[0m \u001b[1;33m\u001b[0m\u001b[0m\n\u001b[1;32m----> 3\u001b[1;33m \u001b[0mjsondata\u001b[0m \u001b[1;33m=\u001b[0m \u001b[0mopen\u001b[0m\u001b[1;33m(\u001b[0m\u001b[1;34m'exer1-interface-data.json'\u001b[0m\u001b[1;33m)\u001b[0m\u001b[1;33m.\u001b[0m\u001b[0mread\u001b[0m\u001b[1;33m(\u001b[0m\u001b[1;33m)\u001b[0m\u001b[1;33m\u001b[0m\u001b[1;33m\u001b[0m\u001b[0m\n\u001b[0m\u001b[0;32m      4\u001b[0m \u001b[1;33m\u001b[0m\u001b[0m\n\u001b[0;32m      5\u001b[0m \u001b[0mjson_object\u001b[0m \u001b[1;33m=\u001b[0m \u001b[0mjson\u001b[0m\u001b[1;33m.\u001b[0m\u001b[0mloads\u001b[0m\u001b[1;33m(\u001b[0m\u001b[0mjsondata\u001b[0m\u001b[1;33m)\u001b[0m\u001b[1;33m\u001b[0m\u001b[1;33m\u001b[0m\u001b[0m\n",
      "\u001b[1;31mFileNotFoundError\u001b[0m: [Errno 2] No such file or directory: 'exer1-interface-data.json'"
     ]
    }
   ],
   "source": [
    "import json \n",
    "\n",
    "file=open(\"jsonfile.json\")\n",
    "data=json.load(file)\n",
    "\n",
    "print(\"\"\"Interface Status\n",
    "================================================================================\n",
    "DN                                                 Description           Speed    MTU  \n",
    "-------------------------------------------------- --------------------  ------  ------\"\"\")\n",
    "\n",
    "for i in data['imdata']:\n",
    "    print(\"{DN:50}{Speed:>30}{MTU:>6}\".format(DN = i['l1PhysIf']['attributes']['dn'], Speed=i['l1PhysIf']['attributes']['speed'], MTU=i['l1PhysIf']['attributes']['mtu']))"
   ]
  }
 ],
 "metadata": {
  "kernelspec": {
   "display_name": "Python 3 (ipykernel)",
   "language": "python",
   "name": "python3"
  },
  "language_info": {
   "codemirror_mode": {
    "name": "ipython",
    "version": 3
   },
   "file_extension": ".py",
   "mimetype": "text/x-python",
   "name": "python",
   "nbconvert_exporter": "python",
   "pygments_lexer": "ipython3",
   "version": "3.9.13"
  }
 },
 "nbformat": 4,
 "nbformat_minor": 5
}
