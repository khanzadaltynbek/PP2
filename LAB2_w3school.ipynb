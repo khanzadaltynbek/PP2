{
 "cells": [
  {
   "cell_type": "markdown",
   "id": "7af049f3",
   "metadata": {},
   "source": [
    "exe1_bool"
   ]
  },
  {
   "cell_type": "code",
   "execution_count": 1,
   "id": "89d325e5",
   "metadata": {},
   "outputs": [
    {
     "name": "stdout",
     "output_type": "stream",
     "text": [
      "True\n"
     ]
    }
   ],
   "source": [
    "print(10 > 9)\n",
    "#True"
   ]
  },
  {
   "cell_type": "markdown",
   "id": "8e8b3547",
   "metadata": {},
   "source": [
    "exe2_bool"
   ]
  },
  {
   "cell_type": "code",
   "execution_count": 2,
   "id": "6ea8cc28",
   "metadata": {},
   "outputs": [
    {
     "name": "stdout",
     "output_type": "stream",
     "text": [
      "False\n"
     ]
    }
   ],
   "source": [
    "print(10 == 9)\n",
    "#False"
   ]
  },
  {
   "cell_type": "markdown",
   "id": "64a2edad",
   "metadata": {},
   "source": [
    "exe3_bool"
   ]
  },
  {
   "cell_type": "code",
   "execution_count": 3,
   "id": "a5444d1c",
   "metadata": {},
   "outputs": [
    {
     "name": "stdout",
     "output_type": "stream",
     "text": [
      "False\n"
     ]
    }
   ],
   "source": [
    "print(10 < 9)\n",
    "#False"
   ]
  },
  {
   "cell_type": "markdown",
   "id": "a9a8737a",
   "metadata": {},
   "source": [
    "exe4_bool"
   ]
  },
  {
   "cell_type": "code",
   "execution_count": 4,
   "id": "6ca29514",
   "metadata": {},
   "outputs": [
    {
     "name": "stdout",
     "output_type": "stream",
     "text": [
      "True\n"
     ]
    }
   ],
   "source": [
    "print(bool(\"abc\"))\n",
    "#True"
   ]
  },
  {
   "cell_type": "markdown",
   "id": "8bb67673",
   "metadata": {},
   "source": [
    "exe5_bool"
   ]
  },
  {
   "cell_type": "code",
   "execution_count": 5,
   "id": "93e89165",
   "metadata": {},
   "outputs": [
    {
     "name": "stdout",
     "output_type": "stream",
     "text": [
      "False\n"
     ]
    }
   ],
   "source": [
    "print(bool(0))\n",
    "#False"
   ]
  },
  {
   "cell_type": "markdown",
   "id": "6f13e48f",
   "metadata": {},
   "source": [
    "exe1_oper"
   ]
  },
  {
   "cell_type": "code",
   "execution_count": 6,
   "id": "015f45ce",
   "metadata": {},
   "outputs": [
    {
     "name": "stdout",
     "output_type": "stream",
     "text": [
      "50\n"
     ]
    }
   ],
   "source": [
    "print(10*5)"
   ]
  },
  {
   "cell_type": "markdown",
   "id": "a8219c8b",
   "metadata": {},
   "source": [
    "exe2_oper"
   ]
  },
  {
   "cell_type": "code",
   "execution_count": 7,
   "id": "182c161e",
   "metadata": {},
   "outputs": [
    {
     "name": "stdout",
     "output_type": "stream",
     "text": [
      "5.0\n"
     ]
    }
   ],
   "source": [
    "print(10/2)"
   ]
  },
  {
   "cell_type": "markdown",
   "id": "77b2aa41",
   "metadata": {},
   "source": [
    "exe3_oper"
   ]
  },
  {
   "cell_type": "code",
   "execution_count": 8,
   "id": "729149d0",
   "metadata": {},
   "outputs": [
    {
     "name": "stdout",
     "output_type": "stream",
     "text": [
      "Yes, apple is a fruit!\n"
     ]
    }
   ],
   "source": [
    "fruits = [\"apple\", \"banana\"]\n",
    "if \"apple\" in fruits:\n",
    "  print(\"Yes, apple is a fruit!\")"
   ]
  },
  {
   "cell_type": "markdown",
   "id": "395b1876",
   "metadata": {},
   "source": [
    "exe4_oper"
   ]
  },
  {
   "cell_type": "code",
   "execution_count": 9,
   "id": "16814cdc",
   "metadata": {},
   "outputs": [
    {
     "name": "stdout",
     "output_type": "stream",
     "text": [
      "5 and 10 is not equal\n"
     ]
    }
   ],
   "source": [
    "if 5!=10:\n",
    "  print(\"5 and 10 is not equal\")"
   ]
  },
  {
   "cell_type": "markdown",
   "id": "1f5a3c15",
   "metadata": {},
   "source": [
    "exe5_oper"
   ]
  },
  {
   "cell_type": "code",
   "execution_count": 10,
   "id": "a847c668",
   "metadata": {},
   "outputs": [
    {
     "name": "stdout",
     "output_type": "stream",
     "text": [
      "At least one of the statements is true\n"
     ]
    }
   ],
   "source": [
    "if 5 == 10 or 4 == 4:\n",
    "  print(\"At least one of the statements is true\")"
   ]
  },
  {
   "cell_type": "markdown",
   "id": "7deac944",
   "metadata": {},
   "source": [
    "exe1_list"
   ]
  },
  {
   "cell_type": "code",
   "execution_count": 11,
   "id": "ad63415e",
   "metadata": {},
   "outputs": [
    {
     "name": "stdout",
     "output_type": "stream",
     "text": [
      "banana\n"
     ]
    }
   ],
   "source": [
    "fruits = [\"apple\", \"banana\", \"cherry\"]\n",
    "print(fruits[1])"
   ]
  },
  {
   "cell_type": "markdown",
   "id": "de5efdb6",
   "metadata": {},
   "source": [
    "exe2_list"
   ]
  },
  {
   "cell_type": "code",
   "execution_count": 14,
   "id": "98ab60f5",
   "metadata": {},
   "outputs": [
    {
     "name": "stdout",
     "output_type": "stream",
     "text": [
      "['kiwi', 'banana', 'cherry']\n"
     ]
    }
   ],
   "source": [
    "fruits = [\"apple\", \"banana\", \"cherry\"]\n",
    "fruits[0] = \"kiwi\"\n",
    "print(fruits)"
   ]
  },
  {
   "cell_type": "markdown",
   "id": "e44ba17f",
   "metadata": {},
   "source": [
    "exe3_list"
   ]
  },
  {
   "cell_type": "code",
   "execution_count": 15,
   "id": "6cbb13b1",
   "metadata": {},
   "outputs": [
    {
     "name": "stdout",
     "output_type": "stream",
     "text": [
      "['apple', 'banana', 'cherry', 'orange']\n"
     ]
    }
   ],
   "source": [
    "fruits = [\"apple\", \"banana\", \"cherry\"]\n",
    "fruits.append(\"orange\")\n",
    "print(fruits)"
   ]
  },
  {
   "cell_type": "markdown",
   "id": "042c2926",
   "metadata": {},
   "source": [
    "exe4_list"
   ]
  },
  {
   "cell_type": "code",
   "execution_count": 16,
   "id": "387b7171",
   "metadata": {},
   "outputs": [
    {
     "name": "stdout",
     "output_type": "stream",
     "text": [
      "['apple', 'lemon', 'banana', 'cherry']\n"
     ]
    }
   ],
   "source": [
    "fruits = [\"apple\", \"banana\", \"cherry\"]\n",
    "fruits.insert(1,\"lemon\")\n",
    "print(fruits)"
   ]
  },
  {
   "cell_type": "markdown",
   "id": "6ed65e07",
   "metadata": {},
   "source": [
    "exe5_list"
   ]
  },
  {
   "cell_type": "code",
   "execution_count": 17,
   "id": "1a705196",
   "metadata": {},
   "outputs": [
    {
     "name": "stdout",
     "output_type": "stream",
     "text": [
      "['apple', 'cherry']\n"
     ]
    }
   ],
   "source": [
    "fruits = [\"apple\", \"banana\", \"cherry\"]\n",
    "fruits.remove(\"banana\")\n",
    "print(fruits)"
   ]
  },
  {
   "cell_type": "markdown",
   "id": "d985c200",
   "metadata": {},
   "source": [
    "exe6_list"
   ]
  },
  {
   "cell_type": "code",
   "execution_count": 18,
   "id": "d94fb271",
   "metadata": {},
   "outputs": [
    {
     "name": "stdout",
     "output_type": "stream",
     "text": [
      "cherry\n"
     ]
    }
   ],
   "source": [
    "fruits = [\"apple\", \"banana\", \"cherry\"]\n",
    "print(fruits[-1])"
   ]
  },
  {
   "cell_type": "markdown",
   "id": "19adf80e",
   "metadata": {},
   "source": [
    "exe7_list"
   ]
  },
  {
   "cell_type": "code",
   "execution_count": 20,
   "id": "484e63c3",
   "metadata": {},
   "outputs": [
    {
     "name": "stdout",
     "output_type": "stream",
     "text": [
      "['cherry', 'orange', 'kiwi']\n"
     ]
    }
   ],
   "source": [
    "fruits = [\"apple\", \"banana\", \"cherry\", \"orange\", \"kiwi\", \"melon\", \"mango\"]\n",
    "print(fruits[2:5])"
   ]
  },
  {
   "cell_type": "markdown",
   "id": "30b4f113",
   "metadata": {},
   "source": [
    "exe8_list"
   ]
  },
  {
   "cell_type": "code",
   "execution_count": 21,
   "id": "50b8e907",
   "metadata": {},
   "outputs": [
    {
     "name": "stdout",
     "output_type": "stream",
     "text": [
      "3\n"
     ]
    }
   ],
   "source": [
    "fruits = [\"apple\", \"banana\", \"cherry\"]\n",
    "print(len(fruits))"
   ]
  },
  {
   "cell_type": "markdown",
   "id": "77a1fdee",
   "metadata": {},
   "source": [
    "exe1_tuple"
   ]
  },
  {
   "cell_type": "code",
   "execution_count": 22,
   "id": "beb7a0c2",
   "metadata": {},
   "outputs": [
    {
     "name": "stdout",
     "output_type": "stream",
     "text": [
      "apple\n"
     ]
    }
   ],
   "source": [
    "fruits = (\"apple\", \"banana\", \"cherry\")\n",
    "print(fruits[0])"
   ]
  },
  {
   "cell_type": "markdown",
   "id": "7e57a05d",
   "metadata": {},
   "source": [
    "exe2_tuple"
   ]
  },
  {
   "cell_type": "code",
   "execution_count": 24,
   "id": "d8d260b9",
   "metadata": {},
   "outputs": [
    {
     "name": "stdout",
     "output_type": "stream",
     "text": [
      "3\n"
     ]
    }
   ],
   "source": [
    "fruits = (\"apple\", \"banana\", \"cherry\")\n",
    "print(len(fruits))"
   ]
  },
  {
   "cell_type": "markdown",
   "id": "c47cd7d5",
   "metadata": {},
   "source": [
    "exe3_tuple"
   ]
  },
  {
   "cell_type": "code",
   "execution_count": 23,
   "id": "4e264c99",
   "metadata": {},
   "outputs": [
    {
     "name": "stdout",
     "output_type": "stream",
     "text": [
      "cherry\n"
     ]
    }
   ],
   "source": [
    "fruits = (\"apple\", \"banana\", \"cherry\")\n",
    "print(fruits[-1])"
   ]
  },
  {
   "cell_type": "markdown",
   "id": "08ed8e34",
   "metadata": {},
   "source": [
    "exe4_tuple"
   ]
  },
  {
   "cell_type": "code",
   "execution_count": 25,
   "id": "0eca88a3",
   "metadata": {},
   "outputs": [
    {
     "name": "stdout",
     "output_type": "stream",
     "text": [
      "('cherry', 'orange', 'kiwi')\n"
     ]
    }
   ],
   "source": [
    "fruits = (\"apple\", \"banana\", \"cherry\", \"orange\", \"kiwi\", \"melon\", \"mango\")\n",
    "print(fruits[2:5])"
   ]
  },
  {
   "cell_type": "markdown",
   "id": "da285fe4",
   "metadata": {},
   "source": [
    "exe1_set"
   ]
  },
  {
   "cell_type": "code",
   "execution_count": 26,
   "id": "f598aca3",
   "metadata": {},
   "outputs": [
    {
     "name": "stdout",
     "output_type": "stream",
     "text": [
      "Yes, apple is a fruit!\n"
     ]
    }
   ],
   "source": [
    "fruits = {\"apple\", \"banana\", \"cherry\"}\n",
    "if \"apple\" in fruits:\n",
    "  print(\"Yes, apple is a fruit!\")"
   ]
  },
  {
   "cell_type": "markdown",
   "id": "1ed06091",
   "metadata": {},
   "source": [
    "exe2_set"
   ]
  },
  {
   "cell_type": "code",
   "execution_count": 27,
   "id": "944998c3",
   "metadata": {},
   "outputs": [
    {
     "name": "stdout",
     "output_type": "stream",
     "text": [
      "{'apple', 'cherry', 'banana', 'orange'}\n"
     ]
    }
   ],
   "source": [
    "fruits = {\"apple\", \"banana\", \"cherry\"}\n",
    "fruits.add(\"orange\")\n",
    "print(fruits)"
   ]
  },
  {
   "cell_type": "markdown",
   "id": "8d42696e",
   "metadata": {},
   "source": [
    "exe3_set"
   ]
  },
  {
   "cell_type": "code",
   "execution_count": 28,
   "id": "3ea6f8c6",
   "metadata": {},
   "outputs": [
    {
     "name": "stdout",
     "output_type": "stream",
     "text": [
      "{'apple', 'grapes', 'banana', 'cherry', 'orange', 'mango'}\n"
     ]
    }
   ],
   "source": [
    "fruits = {\"apple\", \"banana\", \"cherry\"}\n",
    "more_fruits = [\"orange\", \"mango\", \"grapes\"]\n",
    "fruits.update(more_fruits)\n",
    "print(fruits)"
   ]
  },
  {
   "cell_type": "markdown",
   "id": "839cbca7",
   "metadata": {},
   "source": [
    "exe4_set"
   ]
  },
  {
   "cell_type": "code",
   "execution_count": 29,
   "id": "84fce280",
   "metadata": {},
   "outputs": [
    {
     "name": "stdout",
     "output_type": "stream",
     "text": [
      "{'apple', 'cherry'}\n"
     ]
    }
   ],
   "source": [
    "fruits = {\"apple\", \"banana\", \"cherry\"}\n",
    "fruits.remove(\"banana\")\n",
    "print(fruits)"
   ]
  },
  {
   "cell_type": "markdown",
   "id": "44b4022f",
   "metadata": {},
   "source": [
    "exe5_set"
   ]
  },
  {
   "cell_type": "code",
   "execution_count": 30,
   "id": "0ea9f83e",
   "metadata": {},
   "outputs": [
    {
     "name": "stdout",
     "output_type": "stream",
     "text": [
      "{'apple', 'cherry'}\n"
     ]
    }
   ],
   "source": [
    "fruits = {\"apple\", \"banana\", \"cherry\"}\n",
    "fruits.discard(\"banana\")\n",
    "print(fruits)"
   ]
  },
  {
   "cell_type": "markdown",
   "id": "0c51d3f1",
   "metadata": {},
   "source": [
    "exe1_dict"
   ]
  },
  {
   "cell_type": "code",
   "execution_count": 31,
   "id": "511797c0",
   "metadata": {},
   "outputs": [
    {
     "name": "stdout",
     "output_type": "stream",
     "text": [
      "Mustang\n"
     ]
    }
   ],
   "source": [
    "car =\t{\n",
    "  \"brand\": \"Ford\",\n",
    "  \"model\": \"Mustang\",\n",
    "  \"year\": 1964\n",
    "}\n",
    "print(\n",
    "car.get(\"model\")\n",
    ")"
   ]
  },
  {
   "cell_type": "markdown",
   "id": "556b6894",
   "metadata": {},
   "source": [
    "exe2_dict"
   ]
  },
  {
   "cell_type": "code",
   "execution_count": 33,
   "id": "19704276",
   "metadata": {},
   "outputs": [
    {
     "name": "stdout",
     "output_type": "stream",
     "text": [
      "{'brand': 'Ford', 'model': 'Mustang', 'year': 2020}\n"
     ]
    }
   ],
   "source": [
    "car =\t{\n",
    "  \"brand\": \"Ford\",\n",
    "  \"model\": \"Mustang\",\n",
    "  \"year\": 1964\n",
    "}\n",
    "car[\"year\"] = 2020\n",
    "print(car)"
   ]
  },
  {
   "cell_type": "markdown",
   "id": "25e07724",
   "metadata": {},
   "source": [
    "exe3_dict"
   ]
  },
  {
   "cell_type": "code",
   "execution_count": 34,
   "id": "59cc8a17",
   "metadata": {},
   "outputs": [
    {
     "name": "stdout",
     "output_type": "stream",
     "text": [
      "{'brand': 'Ford', 'model': 'Mustang', 'year': 1964, 'color': 'red'}\n"
     ]
    }
   ],
   "source": [
    "car =\t{\n",
    "  \"brand\": \"Ford\",\n",
    "  \"model\": \"Mustang\",\n",
    "  \"year\": 1964\n",
    "}\n",
    "car[\"color\"] =\"red\"\n",
    "print(car)"
   ]
  },
  {
   "cell_type": "markdown",
   "id": "7c5229a5",
   "metadata": {},
   "source": [
    "exe4_dict"
   ]
  },
  {
   "cell_type": "code",
   "execution_count": 35,
   "id": "a8b22804",
   "metadata": {},
   "outputs": [
    {
     "name": "stdout",
     "output_type": "stream",
     "text": [
      "{'brand': 'Ford', 'year': 1964}\n"
     ]
    }
   ],
   "source": [
    "car =\t{\n",
    "  \"brand\": \"Ford\",\n",
    "  \"model\": \"Mustang\",\n",
    "  \"year\": 1964\n",
    "}\n",
    "car.pop(\"model\")\n",
    "print(car)"
   ]
  },
  {
   "cell_type": "markdown",
   "id": "bea1bc57",
   "metadata": {},
   "source": [
    "exe5_dict"
   ]
  },
  {
   "cell_type": "code",
   "execution_count": 36,
   "id": "0d9d9980",
   "metadata": {},
   "outputs": [
    {
     "name": "stdout",
     "output_type": "stream",
     "text": [
      "{}\n"
     ]
    }
   ],
   "source": [
    "car =\t{\n",
    "  \"brand\": \"Ford\",\n",
    "  \"model\": \"Mustang\",\n",
    "  \"year\": 1964\n",
    "}\n",
    "car.clear()\n",
    "print(car)"
   ]
  },
  {
   "cell_type": "markdown",
   "id": "40b45e35",
   "metadata": {},
   "source": [
    "exe1_if"
   ]
  },
  {
   "cell_type": "code",
   "execution_count": 37,
   "id": "3a96094a",
   "metadata": {},
   "outputs": [
    {
     "name": "stdout",
     "output_type": "stream",
     "text": [
      "Hello World\n"
     ]
    }
   ],
   "source": [
    "a = 50\n",
    "b = 10\n",
    "if a > b:\n",
    " print(\"Hello World\")"
   ]
  },
  {
   "cell_type": "markdown",
   "id": "20ad0d1c",
   "metadata": {},
   "source": [
    "exe2_if"
   ]
  },
  {
   "cell_type": "code",
   "execution_count": 38,
   "id": "993d1cee",
   "metadata": {},
   "outputs": [
    {
     "name": "stdout",
     "output_type": "stream",
     "text": [
      "Hello World\n"
     ]
    }
   ],
   "source": [
    "a = 50\n",
    "b = 10\n",
    "if a != b:\n",
    "    print(\"Hello World\")"
   ]
  },
  {
   "cell_type": "markdown",
   "id": "eb2e33dd",
   "metadata": {},
   "source": [
    "exe3_if"
   ]
  },
  {
   "cell_type": "code",
   "execution_count": 39,
   "id": "9d7cd8f3",
   "metadata": {},
   "outputs": [
    {
     "name": "stdout",
     "output_type": "stream",
     "text": [
      "No\n"
     ]
    }
   ],
   "source": [
    "a = 50\n",
    "b = 10\n",
    "if a == b:\n",
    "  print(\"Yes\")\n",
    "else:\n",
    "  print(\"No\")"
   ]
  },
  {
   "cell_type": "markdown",
   "id": "1f3557f3",
   "metadata": {},
   "source": [
    "exe4_if"
   ]
  },
  {
   "cell_type": "code",
   "execution_count": 40,
   "id": "5753c068",
   "metadata": {},
   "outputs": [
    {
     "name": "stdout",
     "output_type": "stream",
     "text": [
      "2\n"
     ]
    }
   ],
   "source": [
    "a = 50\n",
    "b = 10\n",
    "if a ==b:\n",
    "  print(\"1\")\n",
    "elif a >b:\n",
    "  print(\"2\")\n",
    "else:\n",
    "  print(\"3\")"
   ]
  },
  {
   "cell_type": "markdown",
   "id": "18a85ae0",
   "metadata": {},
   "source": [
    "exe5_if"
   ]
  },
  {
   "cell_type": "code",
   "execution_count": 45,
   "id": "c477dc95",
   "metadata": {},
   "outputs": [],
   "source": [
    "if a == b and c == d:\n",
    "    print(\"Hello\")"
   ]
  },
  {
   "cell_type": "markdown",
   "id": "d62bad73",
   "metadata": {},
   "source": [
    "exe6_if"
   ]
  },
  {
   "cell_type": "code",
   "execution_count": 48,
   "id": "aca0f53f",
   "metadata": {},
   "outputs": [
    {
     "ename": "NameError",
     "evalue": "name 'c' is not defined",
     "output_type": "error",
     "traceback": [
      "\u001b[1;31m---------------------------------------------------------------------------\u001b[0m",
      "\u001b[1;31mNameError\u001b[0m                                 Traceback (most recent call last)",
      "\u001b[1;32m~\\AppData\\Local\\Temp\\ipykernel_65580\\1982441938.py\u001b[0m in \u001b[0;36m<module>\u001b[1;34m\u001b[0m\n\u001b[1;32m----> 1\u001b[1;33m \u001b[1;32mif\u001b[0m \u001b[0ma\u001b[0m \u001b[1;33m==\u001b[0m \u001b[0mb\u001b[0m \u001b[1;32mor\u001b[0m  \u001b[0mc\u001b[0m\u001b[1;33m==\u001b[0m \u001b[0md\u001b[0m\u001b[1;33m:\u001b[0m\u001b[1;33m\u001b[0m\u001b[1;33m\u001b[0m\u001b[0m\n\u001b[0m\u001b[0;32m      2\u001b[0m     \u001b[0mprint\u001b[0m\u001b[1;33m(\u001b[0m\u001b[1;34m\"Hello\"\u001b[0m\u001b[1;33m)\u001b[0m\u001b[1;33m\u001b[0m\u001b[1;33m\u001b[0m\u001b[0m\n",
      "\u001b[1;31mNameError\u001b[0m: name 'c' is not defined"
     ]
    }
   ],
   "source": [
    "if a == b or  c== d:\n",
    "    print(\"Hello\")"
   ]
  },
  {
   "cell_type": "markdown",
   "id": "11ae708e",
   "metadata": {},
   "source": [
    "exe7_if"
   ]
  },
  {
   "cell_type": "code",
   "execution_count": 43,
   "id": "8c8bcf78",
   "metadata": {},
   "outputs": [
    {
     "name": "stdout",
     "output_type": "stream",
     "text": [
      "Five is greater than two!\n"
     ]
    }
   ],
   "source": [
    "if 5 > 2:\n",
    "    print(\"Five is greater than two!\")"
   ]
  },
  {
   "cell_type": "markdown",
   "id": "7c806b6b",
   "metadata": {},
   "source": [
    "exe8_if"
   ]
  },
  {
   "cell_type": "code",
   "execution_count": 46,
   "id": "4d922f16",
   "metadata": {},
   "outputs": [
    {
     "name": "stdout",
     "output_type": "stream",
     "text": [
      "Five is greater than two!\n"
     ]
    }
   ],
   "source": [
    "if 5 > 2:print(\"Five is greater than two!\")"
   ]
  },
  {
   "cell_type": "markdown",
   "id": "7d0c40cb",
   "metadata": {},
   "source": [
    "exe9_if"
   ]
  },
  {
   "cell_type": "code",
   "execution_count": 47,
   "id": "c670c14a",
   "metadata": {},
   "outputs": [
    {
     "name": "stdout",
     "output_type": "stream",
     "text": [
      "Yes\n"
     ]
    }
   ],
   "source": [
    "print(\"Yes\") if 5 > 2 else print(\"No\")"
   ]
  },
  {
   "cell_type": "markdown",
   "id": "48b900e2",
   "metadata": {},
   "source": [
    "exe1_while"
   ]
  },
  {
   "cell_type": "code",
   "execution_count": 49,
   "id": "c3d96064",
   "metadata": {},
   "outputs": [
    {
     "name": "stdout",
     "output_type": "stream",
     "text": [
      "1\n",
      "2\n",
      "3\n",
      "4\n",
      "5\n"
     ]
    }
   ],
   "source": [
    "i = 1\n",
    "while i < 6:\n",
    "  print(i)\n",
    "  i += 1"
   ]
  },
  {
   "cell_type": "markdown",
   "id": "e3081e03",
   "metadata": {},
   "source": [
    "exe2_while"
   ]
  },
  {
   "cell_type": "code",
   "execution_count": 51,
   "id": "a70a20fc",
   "metadata": {},
   "outputs": [
    {
     "name": "stdout",
     "output_type": "stream",
     "text": [
      "3\n"
     ]
    }
   ],
   "source": [
    "i = 1\n",
    "while i < 6:\n",
    "  if i == 3: \n",
    "    break\n",
    "  i += 1\n",
    "print(i)"
   ]
  },
  {
   "cell_type": "markdown",
   "id": "a909e24b",
   "metadata": {},
   "source": [
    "exe3_while"
   ]
  },
  {
   "cell_type": "code",
   "execution_count": 52,
   "id": "017d957c",
   "metadata": {},
   "outputs": [
    {
     "name": "stdout",
     "output_type": "stream",
     "text": [
      "1\n",
      "2\n",
      "4\n",
      "5\n",
      "6\n"
     ]
    }
   ],
   "source": [
    "i = 0\n",
    "while i < 6:\n",
    "  i += 1\n",
    "  if i == 3:\n",
    "    continue\n",
    "  print(i)"
   ]
  },
  {
   "cell_type": "markdown",
   "id": "6b1d25a3",
   "metadata": {},
   "source": [
    "exe4_while"
   ]
  },
  {
   "cell_type": "code",
   "execution_count": 53,
   "id": "c71972bc",
   "metadata": {},
   "outputs": [
    {
     "name": "stdout",
     "output_type": "stream",
     "text": [
      "1\n",
      "2\n",
      "3\n",
      "4\n",
      "5\n",
      "i is no longer less than 6\n"
     ]
    }
   ],
   "source": [
    "i = 1\n",
    "while i < 6:\n",
    "  print(i)\n",
    "  i += 1\n",
    "else:\n",
    "  print(\"i is no longer less than 6\")"
   ]
  },
  {
   "cell_type": "markdown",
   "id": "bc3dc57a",
   "metadata": {},
   "source": [
    "exe1_for"
   ]
  },
  {
   "cell_type": "code",
   "execution_count": 54,
   "id": "56361e97",
   "metadata": {},
   "outputs": [
    {
     "name": "stdout",
     "output_type": "stream",
     "text": [
      "apple\n",
      "banana\n",
      "cherry\n"
     ]
    }
   ],
   "source": [
    "fruits = [\"apple\", \"banana\", \"cherry\"]\n",
    "for x in fruits:\n",
    "    print(x)"
   ]
  },
  {
   "cell_type": "markdown",
   "id": "24fce8a4",
   "metadata": {},
   "source": [
    "exe2_for"
   ]
  },
  {
   "cell_type": "code",
   "execution_count": 59,
   "id": "c7f77b22",
   "metadata": {},
   "outputs": [
    {
     "name": "stdout",
     "output_type": "stream",
     "text": [
      "cherry\n"
     ]
    }
   ],
   "source": [
    "fruits = [\"apple\", \"banana\", \"cherry\"]\n",
    "for x in fruits:\n",
    "    if x == \"banana\":\n",
    "        continue\n",
    "print(x)"
   ]
  },
  {
   "cell_type": "markdown",
   "id": "392fc8d0",
   "metadata": {},
   "source": [
    "exe3_for"
   ]
  },
  {
   "cell_type": "code",
   "execution_count": 61,
   "id": "38b8b8b2",
   "metadata": {},
   "outputs": [
    {
     "name": "stdout",
     "output_type": "stream",
     "text": [
      "0\n",
      "1\n",
      "2\n",
      "3\n",
      "4\n",
      "5\n"
     ]
    }
   ],
   "source": [
    "for x in range(6):\n",
    "    print(x)"
   ]
  },
  {
   "cell_type": "markdown",
   "id": "ddbbf872",
   "metadata": {},
   "source": [
    "exe4_for"
   ]
  },
  {
   "cell_type": "code",
   "execution_count": 62,
   "id": "91602736",
   "metadata": {},
   "outputs": [
    {
     "name": "stdout",
     "output_type": "stream",
     "text": [
      "banana\n"
     ]
    }
   ],
   "source": [
    "fruits = [\"apple\", \"banana\", \"cherry\"]\n",
    "for x in fruits:\n",
    "  if x == \"banana\": \n",
    "    break\n",
    "print(x)"
   ]
  },
  {
   "cell_type": "code",
   "execution_count": null,
   "id": "1a78a184",
   "metadata": {},
   "outputs": [],
   "source": []
  }
 ],
 "metadata": {
  "kernelspec": {
   "display_name": "Python 3 (ipykernel)",
   "language": "python",
   "name": "python3"
  },
  "language_info": {
   "codemirror_mode": {
    "name": "ipython",
    "version": 3
   },
   "file_extension": ".py",
   "mimetype": "text/x-python",
   "name": "python",
   "nbconvert_exporter": "python",
   "pygments_lexer": "ipython3",
   "version": "3.9.13"
  }
 },
 "nbformat": 4,
 "nbformat_minor": 5
}
